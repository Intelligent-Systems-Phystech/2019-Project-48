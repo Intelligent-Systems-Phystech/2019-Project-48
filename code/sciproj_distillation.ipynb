{
  "nbformat": 4,
  "nbformat_minor": 0,
  "metadata": {
    "colab": {
      "name": "sciproj_distillation.ipynb",
      "version": "0.3.2",
      "provenance": [],
      "collapsed_sections": []
    },
    "kernelspec": {
      "display_name": "Python 3",
      "language": "python",
      "name": "python3"
    }
  },
  "cells": [
    {
      "metadata": {
        "id": "3yzfDwwWuhou",
        "colab_type": "text"
      },
      "cell_type": "markdown",
      "source": [
        "Опробуем на Сиэтловском датасете дистилляцию"
      ]
    },
    {
      "metadata": {
        "id": "-EMvIOjdSFSZ",
        "colab_type": "text"
      },
      "cell_type": "markdown",
      "source": [
        "* id - идентификационный номер жилья\n",
        "* date - дата продажи дома\n",
        "* price - цена\n",
        "* bedrooms - количество спален\n",
        "* bathrooms - количество ванных комнат, где .5 означает комнату с туалетом, но без душа\n",
        "* sqft_living - площадь жилья\n",
        "* sqft_lot - площадь участка\n",
        "* floors - количество этажей\n",
        "* waterfront - видна ли набережная\n",
        "* view - насколько хороший вид\n",
        "* condition - индекс от 1 от 5, отвечающий за состояние квартиры\n",
        "* grade - 1 до 13, 1-3 соответствует плохому уровню строительства и дизайна, 3-7 - средний уровень, 11-13 -высокий.\n",
        "* sqft_above - жилая площадь над уровнем земли\n",
        "* sqft_basement - жилая площадь под уровнем земли\n",
        "* yr_built - год постройки жилья\n",
        "* yr_renovated - год последней реконструкции жилья\n",
        "* zipcode - почтовый индекс\n",
        "* lat - широта\n",
        "* long - долгота\n",
        "* sqft_living15 - средняя площадь жилья ближайших 15-и соседей\n",
        "* sqft_lot15 - средняя площадь участка ближайших 15-и соседей"
      ]
    },
    {
      "metadata": {
        "id": "idqPM-7jSFSa",
        "colab_type": "code",
        "colab": {}
      },
      "cell_type": "code",
      "source": [
        "import json\n",
        "import csv\n",
        "import pandas as pd\n",
        "import pickle\n",
        "import re\n",
        "import numpy as np\n",
        "import matplotlib.pyplot as plt\n",
        "import seaborn as sns\n",
        "from sklearn import model_selection, preprocessing\n",
        "from sklearn.model_selection import train_test_split\n",
        "from sklearn.metrics import mean_squared_error\n",
        "from sklearn.utils import shuffle\n",
        "from sklearn.linear_model import LinearRegression\n",
        "from sklearn.model_selection import GridSearchCV, KFold\n",
        "from sklearn.neighbors import KNeighborsRegressor, NearestNeighbors\n",
        "import seaborn as sns\n",
        "import warnings\n",
        "import requests\n",
        "from sklearn import cluster, datasets\n",
        "import os\n",
        "from joblib import dump, load\n",
        "import lightgbm\n",
        "import lightgbm as lgb\n",
        "from tqdm import tqdm_notebook\n",
        "\n",
        "from copy import deepcopy\n",
        "from tqdm import tqdm\n",
        "\n",
        "import warnings\n",
        "warnings.filterwarnings('ignore')\n",
        "import numpy as np\n",
        "import pandas as pd\n",
        "from datetime import datetime\n",
        "from sklearn.model_selection import RandomizedSearchCV, GridSearchCV\n",
        "from sklearn.metrics import roc_auc_score\n",
        "from sklearn.model_selection import StratifiedKFold\n",
        "from xgboost import XGBClassifier\n",
        "import lightgbm as lgb\n",
        "\n",
        "\n",
        "warnings.simplefilter(\"ignore\")"
      ],
      "execution_count": 0,
      "outputs": []
    },
    {
      "metadata": {
        "id": "uAyZZUy5DNiz",
        "colab_type": "text"
      },
      "cell_type": "markdown",
      "source": [
        "### Здесь - стандартный процессинг данных, включая работу knn - а. Ничего особенного."
      ]
    },
    {
      "metadata": {
        "id": "VTwDx7c0TdTW",
        "colab_type": "code",
        "outputId": "56f6a4a0-8693-4934-e5d8-f89cb3f70e54",
        "colab": {
          "base_uri": "https://localhost:8080/",
          "height": 422
        }
      },
      "cell_type": "code",
      "source": [
        "! wget \"https://mipt-stats.gitlab.io/files/ml/hw2/houses_train.csv\"\n",
        "! wget \"https://mipt-stats.gitlab.io/files/ml/hw2/houses_test.csv\"\n",
        "! mkdir houses-for-cats\n",
        "! mv houses_train.csv houses-for-cats/houses_train.csv\n",
        "! mv houses_test.csv houses-for-cats/houses_test.csv\n",
        "! ls 'houses-for-cats'"
      ],
      "execution_count": 0,
      "outputs": [
        {
          "output_type": "stream",
          "text": [
            "--2019-04-24 21:21:58--  https://mipt-stats.gitlab.io/files/ml/hw2/houses_train.csv\n",
            "Resolving mipt-stats.gitlab.io (mipt-stats.gitlab.io)... 35.185.44.232\n",
            "Connecting to mipt-stats.gitlab.io (mipt-stats.gitlab.io)|35.185.44.232|:443... connected.\n",
            "HTTP request sent, awaiting response... 200 OK\n",
            "Length: 1730890 (1.7M) [text/csv]\n",
            "Saving to: ‘houses_train.csv’\n",
            "\n",
            "\rhouses_train.csv      0%[                    ]       0  --.-KB/s               \rhouses_train.csv    100%[===================>]   1.65M  --.-KB/s    in 0.02s   \n",
            "\n",
            "2019-04-24 21:21:59 (74.1 MB/s) - ‘houses_train.csv’ saved [1730890/1730890]\n",
            "\n",
            "--2019-04-24 21:22:00--  https://mipt-stats.gitlab.io/files/ml/hw2/houses_test.csv\n",
            "Resolving mipt-stats.gitlab.io (mipt-stats.gitlab.io)... 35.185.44.232\n",
            "Connecting to mipt-stats.gitlab.io (mipt-stats.gitlab.io)|35.185.44.232|:443... connected.\n",
            "HTTP request sent, awaiting response... 200 OK\n",
            "Length: 713050 (696K) [text/csv]\n",
            "Saving to: ‘houses_test.csv’\n",
            "\n",
            "houses_test.csv     100%[===================>] 696.34K  --.-KB/s    in 0.01s   \n",
            "\n",
            "2019-04-24 21:22:00 (61.6 MB/s) - ‘houses_test.csv’ saved [713050/713050]\n",
            "\n",
            "houses_test.csv  houses_train.csv\n"
          ],
          "name": "stdout"
        }
      ]
    },
    {
      "metadata": {
        "id": "yJmd92zwSFSc",
        "colab_type": "code",
        "colab": {}
      },
      "cell_type": "code",
      "source": [
        "def mape(y_actual, y_estim):\n",
        "    return np.mean(np.abs((y_actual - y_estim) / y_actual))\n",
        "  \n",
        "def get_date(df, i, t='year'):\n",
        "    s = df['date'][i].split('T')[0]\n",
        "    year=int(s[:4])\n",
        "    month=int(s[4:6])\n",
        "    day=int(s[6:8])\n",
        "    if t == 'year':\n",
        "        return (year - 2015) * 12 + month\n",
        "\n",
        "def preprocess_df(df):\n",
        "    if 'id' in df.columns:\n",
        "      df = df.drop('id', axis=1)\n",
        "    # Точно ли это делать?\n",
        "    if 'zipcode' in df.columns:\n",
        "      df = df.drop('zipcode', axis=1)\n",
        "    if 'price' in df.columns:\n",
        "      df['target'] = df['price'] / df['sqft_living']\n",
        "      df = df.drop('price', axis=1)\n",
        "    years = [get_date(df, i) for i in range(len(df))]\n",
        "    df['date'] = years\n",
        "    # df = df[df['sqft_lot'] - df['sqft_living'] < 300000]\n",
        "    return df"
      ],
      "execution_count": 0,
      "outputs": []
    },
    {
      "metadata": {
        "id": "J9rDlOR5SFSf",
        "colab_type": "code",
        "outputId": "378a9381-30e8-47f5-b80a-bd1d9f19e534",
        "colab": {
          "base_uri": "https://localhost:8080/",
          "height": 215
        }
      },
      "cell_type": "code",
      "source": [
        "df = pd.read_csv('houses-for-cats/houses_train.csv')\n",
        "df = shuffle(df)\n",
        "df = preprocess_df(df)\n",
        "df.head()"
      ],
      "execution_count": 0,
      "outputs": [
        {
          "output_type": "execute_result",
          "data": {
            "text/html": [
              "<div>\n",
              "<style scoped>\n",
              "    .dataframe tbody tr th:only-of-type {\n",
              "        vertical-align: middle;\n",
              "    }\n",
              "\n",
              "    .dataframe tbody tr th {\n",
              "        vertical-align: top;\n",
              "    }\n",
              "\n",
              "    .dataframe thead th {\n",
              "        text-align: right;\n",
              "    }\n",
              "</style>\n",
              "<table border=\"1\" class=\"dataframe\">\n",
              "  <thead>\n",
              "    <tr style=\"text-align: right;\">\n",
              "      <th></th>\n",
              "      <th>date</th>\n",
              "      <th>bedrooms</th>\n",
              "      <th>bathrooms</th>\n",
              "      <th>sqft_living</th>\n",
              "      <th>sqft_lot</th>\n",
              "      <th>floors</th>\n",
              "      <th>waterfront</th>\n",
              "      <th>view</th>\n",
              "      <th>condition</th>\n",
              "      <th>grade</th>\n",
              "      <th>sqft_above</th>\n",
              "      <th>sqft_basement</th>\n",
              "      <th>yr_built</th>\n",
              "      <th>yr_renovated</th>\n",
              "      <th>lat</th>\n",
              "      <th>long</th>\n",
              "      <th>sqft_living15</th>\n",
              "      <th>sqft_lot15</th>\n",
              "      <th>target</th>\n",
              "    </tr>\n",
              "  </thead>\n",
              "  <tbody>\n",
              "    <tr>\n",
              "      <th>10220</th>\n",
              "      <td>10</td>\n",
              "      <td>5</td>\n",
              "      <td>3.50</td>\n",
              "      <td>3260</td>\n",
              "      <td>58806</td>\n",
              "      <td>2.0</td>\n",
              "      <td>0</td>\n",
              "      <td>0</td>\n",
              "      <td>4</td>\n",
              "      <td>8</td>\n",
              "      <td>3260</td>\n",
              "      <td>0</td>\n",
              "      <td>1969</td>\n",
              "      <td>0</td>\n",
              "      <td>47.3703</td>\n",
              "      <td>-122.159</td>\n",
              "      <td>1810</td>\n",
              "      <td>17927</td>\n",
              "      <td>174.371166</td>\n",
              "    </tr>\n",
              "    <tr>\n",
              "      <th>10665</th>\n",
              "      <td>12</td>\n",
              "      <td>2</td>\n",
              "      <td>2.75</td>\n",
              "      <td>1430</td>\n",
              "      <td>1425</td>\n",
              "      <td>2.0</td>\n",
              "      <td>0</td>\n",
              "      <td>0</td>\n",
              "      <td>3</td>\n",
              "      <td>7</td>\n",
              "      <td>995</td>\n",
              "      <td>435</td>\n",
              "      <td>2006</td>\n",
              "      <td>0</td>\n",
              "      <td>47.6210</td>\n",
              "      <td>-122.298</td>\n",
              "      <td>1500</td>\n",
              "      <td>1749</td>\n",
              "      <td>325.174825</td>\n",
              "    </tr>\n",
              "    <tr>\n",
              "      <th>11069</th>\n",
              "      <td>12</td>\n",
              "      <td>5</td>\n",
              "      <td>2.75</td>\n",
              "      <td>2210</td>\n",
              "      <td>13500</td>\n",
              "      <td>1.0</td>\n",
              "      <td>0</td>\n",
              "      <td>0</td>\n",
              "      <td>5</td>\n",
              "      <td>7</td>\n",
              "      <td>1460</td>\n",
              "      <td>750</td>\n",
              "      <td>1963</td>\n",
              "      <td>0</td>\n",
              "      <td>47.4468</td>\n",
              "      <td>-122.282</td>\n",
              "      <td>1590</td>\n",
              "      <td>10850</td>\n",
              "      <td>142.081448</td>\n",
              "    </tr>\n",
              "    <tr>\n",
              "      <th>7078</th>\n",
              "      <td>14</td>\n",
              "      <td>4</td>\n",
              "      <td>2.25</td>\n",
              "      <td>2130</td>\n",
              "      <td>11843</td>\n",
              "      <td>2.0</td>\n",
              "      <td>0</td>\n",
              "      <td>0</td>\n",
              "      <td>4</td>\n",
              "      <td>9</td>\n",
              "      <td>2130</td>\n",
              "      <td>0</td>\n",
              "      <td>1972</td>\n",
              "      <td>0</td>\n",
              "      <td>47.5358</td>\n",
              "      <td>-122.225</td>\n",
              "      <td>2380</td>\n",
              "      <td>11643</td>\n",
              "      <td>399.061033</td>\n",
              "    </tr>\n",
              "    <tr>\n",
              "      <th>12289</th>\n",
              "      <td>6</td>\n",
              "      <td>3</td>\n",
              "      <td>2.50</td>\n",
              "      <td>2690</td>\n",
              "      <td>21883</td>\n",
              "      <td>2.0</td>\n",
              "      <td>0</td>\n",
              "      <td>0</td>\n",
              "      <td>3</td>\n",
              "      <td>8</td>\n",
              "      <td>2690</td>\n",
              "      <td>0</td>\n",
              "      <td>1994</td>\n",
              "      <td>0</td>\n",
              "      <td>47.6462</td>\n",
              "      <td>-121.904</td>\n",
              "      <td>2370</td>\n",
              "      <td>21781</td>\n",
              "      <td>165.427509</td>\n",
              "    </tr>\n",
              "  </tbody>\n",
              "</table>\n",
              "</div>"
            ],
            "text/plain": [
              "       date  bedrooms  bathrooms  sqft_living  sqft_lot  floors  waterfront  \\\n",
              "10220    10         5       3.50         3260     58806     2.0           0   \n",
              "10665    12         2       2.75         1430      1425     2.0           0   \n",
              "11069    12         5       2.75         2210     13500     1.0           0   \n",
              "7078     14         4       2.25         2130     11843     2.0           0   \n",
              "12289     6         3       2.50         2690     21883     2.0           0   \n",
              "\n",
              "       view  condition  grade  sqft_above  sqft_basement  yr_built  \\\n",
              "10220     0          4      8        3260              0      1969   \n",
              "10665     0          3      7         995            435      2006   \n",
              "11069     0          5      7        1460            750      1963   \n",
              "7078      0          4      9        2130              0      1972   \n",
              "12289     0          3      8        2690              0      1994   \n",
              "\n",
              "       yr_renovated      lat     long  sqft_living15  sqft_lot15      target  \n",
              "10220             0  47.3703 -122.159           1810       17927  174.371166  \n",
              "10665             0  47.6210 -122.298           1500        1749  325.174825  \n",
              "11069             0  47.4468 -122.282           1590       10850  142.081448  \n",
              "7078              0  47.5358 -122.225           2380       11643  399.061033  \n",
              "12289             0  47.6462 -121.904           2370       21781  165.427509  "
            ]
          },
          "metadata": {
            "tags": []
          },
          "execution_count": 7
        }
      ]
    },
    {
      "metadata": {
        "colab_type": "code",
        "outputId": "270f6302-2f8f-4b94-c606-078762d6d1aa",
        "id": "qOc0o6J2YunS",
        "colab": {
          "base_uri": "https://localhost:8080/",
          "height": 105
        }
      },
      "cell_type": "code",
      "source": [
        "df.columns"
      ],
      "execution_count": 0,
      "outputs": [
        {
          "output_type": "execute_result",
          "data": {
            "text/plain": [
              "Index(['date', 'bedrooms', 'bathrooms', 'sqft_living', 'sqft_lot', 'floors',\n",
              "       'waterfront', 'view', 'condition', 'grade', 'sqft_above',\n",
              "       'sqft_basement', 'yr_built', 'yr_renovated', 'lat', 'long',\n",
              "       'sqft_living15', 'sqft_lot15', 'target'],\n",
              "      dtype='object')"
            ]
          },
          "metadata": {
            "tags": []
          },
          "execution_count": 8
        }
      ]
    },
    {
      "metadata": {
        "id": "RCW_ydRKSFS2",
        "colab_type": "text"
      },
      "cell_type": "markdown",
      "source": [
        "Ну, понеслась"
      ]
    },
    {
      "metadata": {
        "id": "gQgMS11gSFS3",
        "colab_type": "code",
        "colab": {}
      },
      "cell_type": "code",
      "source": [
        "X = df.drop('target', axis=1)\n",
        "y = df['target']\n",
        "\n",
        "X_train, X_val, y_train, y_val = train_test_split(X, y, test_size=0.25)"
      ],
      "execution_count": 0,
      "outputs": []
    },
    {
      "metadata": {
        "id": "DF3XZbcgYx_D",
        "colab_type": "text"
      },
      "cell_type": "markdown",
      "source": [
        "Пользуемся knn-ом. Используем оптимальный регрессор. Конечено, учет цены на квадратный метр в нашем случае, когда есть участки, не совсем корректен, но некоторый смысл все равно будет"
      ]
    },
    {
      "metadata": {
        "id": "F3pJ3v7DSFS6",
        "colab_type": "code",
        "outputId": "22563dee-f669-4576-c82d-f9a19d8adfa9",
        "colab": {
          "base_uri": "https://localhost:8080/",
          "height": 87
        }
      },
      "cell_type": "code",
      "source": [
        "def get_best_knn_estimator():\n",
        "    cv = KFold(n_splits=7, shuffle=True, random_state=101)\n",
        "    knn_params = {'n_neighbors': range(30, 35),\n",
        "                  'weights': ['uniform', 'distance']}\n",
        "    knn_X = X_train[['lat', 'long']].values\n",
        "    knn_y = y_train.values\n",
        "\n",
        "    knn_regressor = KNeighborsRegressor()\n",
        "    knn_grid = GridSearchCV(knn_regressor, knn_params, cv=cv, verbose=True)\n",
        "    knn_grid.fit(knn_X, knn_y)\n",
        "    knn_estimator = knn_grid.best_estimator_\n",
        "    return knn_estimator, knn_grid.best_params_\n",
        "\n",
        "knn_best, _ = get_best_knn_estimator()\n",
        "knn_best.fit(X_train[['lat', 'long']].values, y_train.values)\n",
        "X_val['knn estim'] = knn_best.predict(X_val[['lat', 'long']].values)\n",
        "mape(y_val, X_val['knn estim'])"
      ],
      "execution_count": 0,
      "outputs": [
        {
          "output_type": "stream",
          "text": [
            "Fitting 7 folds for each of 10 candidates, totalling 70 fits\n"
          ],
          "name": "stdout"
        },
        {
          "output_type": "stream",
          "text": [
            "[Parallel(n_jobs=1)]: Using backend SequentialBackend with 1 concurrent workers.\n",
            "[Parallel(n_jobs=1)]: Done  70 out of  70 | elapsed:    5.8s finished\n"
          ],
          "name": "stderr"
        },
        {
          "output_type": "execute_result",
          "data": {
            "text/plain": [
              "0.18832450880700652"
            ]
          },
          "metadata": {
            "tags": []
          },
          "execution_count": 11
        }
      ]
    },
    {
      "metadata": {
        "id": "c-HeXi2SSFTD",
        "colab_type": "code",
        "colab": {}
      },
      "cell_type": "code",
      "source": [
        "def make_knn_prediction_for_train(Xtrain = X_train, ytrain = y_train):\n",
        "    knn_estimator = deepcopy(knn_best)\n",
        "    knn_prediction = np.zeros(len(Xtrain))\n",
        "    skf = KFold(n_splits=10)\n",
        "\n",
        "    knn_X = Xtrain[['lat', 'long']].values\n",
        "    knn_y = ytrain.values\n",
        "\n",
        "    for train_index, test_index in tqdm(skf.split(knn_X)):\n",
        "        knn_X_train, knn_X_test = knn_X[train_index], knn_X[test_index]\n",
        "        knn_y_train = knn_y[train_index]\n",
        "\n",
        "        knn_estimator.fit(knn_X_train, knn_y_train)\n",
        "        knn_prediction[test_index] = knn_estimator.predict(knn_X_test)\n",
        "    return knn_prediction"
      ],
      "execution_count": 0,
      "outputs": []
    },
    {
      "metadata": {
        "id": "3HXtawD8SFTL",
        "colab_type": "code",
        "outputId": "96f8d7c4-35d0-4dae-e7c5-abbf5d21bcfe",
        "colab": {
          "base_uri": "https://localhost:8080/",
          "height": 52
        }
      },
      "cell_type": "code",
      "source": [
        "X_train['knn estim'] = make_knn_prediction_for_train()\n",
        "#X_val['knn estim'] = deepcopy(knn_best).fit(X_train[['lat', 'long']], y_train).predict(X_val[['lat', 'long']])\n",
        "mape(y_train, X_train['knn estim'])"
      ],
      "execution_count": 0,
      "outputs": [
        {
          "output_type": "stream",
          "text": [
            "10it [00:00, 76.16it/s]\n"
          ],
          "name": "stderr"
        },
        {
          "output_type": "execute_result",
          "data": {
            "text/plain": [
              "0.1888593958564522"
            ]
          },
          "metadata": {
            "tags": []
          },
          "execution_count": 13
        }
      ]
    },
    {
      "metadata": {
        "id": "UgBA-QHPSFTP",
        "colab_type": "code",
        "outputId": "84707fb5-3a96-404f-97e2-1e3688687747",
        "colab": {
          "base_uri": "https://localhost:8080/",
          "height": 34
        }
      },
      "cell_type": "code",
      "source": [
        "mape(y_val, X_val['knn estim'])"
      ],
      "execution_count": 0,
      "outputs": [
        {
          "output_type": "execute_result",
          "data": {
            "text/plain": [
              "0.18832450880700652"
            ]
          },
          "metadata": {
            "tags": []
          },
          "execution_count": 14
        }
      ]
    },
    {
      "metadata": {
        "id": "AbWv8-GCYkZ4",
        "colab_type": "text"
      },
      "cell_type": "markdown",
      "source": [
        "### Начнем с того, что посмотрим, какое качество мы можем достичь на выборке, когда нам дан полный датасет."
      ]
    },
    {
      "metadata": {
        "id": "wynMCVuNSFTV",
        "colab_type": "code",
        "colab": {}
      },
      "cell_type": "code",
      "source": [
        "params = {\n",
        "    'boosting_type': 'gbdt',\n",
        "    'objective': 'regression',\n",
        "    'metric': {'mape'},\n",
        "    'num_leaves': 60,\n",
        "    'learning_rate': 0.1,\n",
        "    'verbose': 0\n",
        "}"
      ],
      "execution_count": 0,
      "outputs": []
    },
    {
      "metadata": {
        "id": "40UFMo4iccRY",
        "colab_type": "code",
        "outputId": "42a0bb15-0e85-40b2-ea9e-cd98f31626f1",
        "colab": {
          "base_uri": "https://localhost:8080/",
          "height": 105
        }
      },
      "cell_type": "code",
      "source": [
        "X_train.columns"
      ],
      "execution_count": 0,
      "outputs": [
        {
          "output_type": "execute_result",
          "data": {
            "text/plain": [
              "Index(['date', 'bedrooms', 'bathrooms', 'sqft_living', 'sqft_lot', 'floors',\n",
              "       'waterfront', 'view', 'condition', 'grade', 'sqft_above',\n",
              "       'sqft_basement', 'yr_built', 'yr_renovated', 'lat', 'long',\n",
              "       'sqft_living15', 'sqft_lot15', 'knn estim'],\n",
              "      dtype='object')"
            ]
          },
          "metadata": {
            "tags": []
          },
          "execution_count": 16
        }
      ]
    },
    {
      "metadata": {
        "id": "CSWgVj4WaOIP",
        "colab_type": "text"
      },
      "cell_type": "markdown",
      "source": [
        "Теперь применяем бустинг с подбором параметров. Ничего особенного, кроме того, что занятие само по себе довольно медленное, поэтому делал на самом деле несколько запусков с целью поиска, в какой стороне искать оптимум. В итоговом коде вообще оставил оптимальные параметры, ибо иначе долго считается"
      ]
    },
    {
      "metadata": {
        "id": "tMxi8z9YSFTY",
        "colab_type": "code",
        "colab": {}
      },
      "cell_type": "code",
      "source": [
        "params = {\n",
        "    'objective': 'regression',\n",
        "    'metric': {'mape'},\n",
        "    'num_leaves': 60,\n",
        "    'verbose': 0\n",
        "}\n",
        "\n",
        "  \n",
        "def get_best_model(X_train, y_train, X_val, y_val):\n",
        "  model = lgb.LGBMRegressor(params)\n",
        "  model = GridSearchCV(model, param_grid, cv=3)\n",
        "  model.fit(X_train.values, y_train)\n",
        "  return model.best_estimator_, model.best_params_"
      ],
      "execution_count": 0,
      "outputs": []
    },
    {
      "metadata": {
        "id": "l3j-zjuPfiLx",
        "colab_type": "code",
        "outputId": "638ca705-2f61-4b3c-a64b-88d2eaa890cf",
        "colab": {
          "base_uri": "https://localhost:8080/",
          "height": 645
        }
      },
      "cell_type": "code",
      "source": [
        "param_grid = {\n",
        "    'learning_rate': [ 0.1],\n",
        "    'n_estimators': [20],\n",
        "    'num_boost_round': [125], #[3000], #[25, 50, 75, 100, 125, 150, 175],\n",
        "    'boosting_type': ['gbdt'],\n",
        "}\n",
        "\n",
        "subset = X_train.columns\n",
        "\n",
        "model_all_features, model_best_params = get_best_model(X_train[subset], \n",
        "                                     y_train, X_val[subset], y_val)\n",
        "pred_val = model_all_features.predict(X_val[subset].values)\n",
        "pred_train = model_all_features.predict(X_train[subset].values)\n",
        "print(\"MAPE on train: \", mape(y_train, pred_train))\n",
        "print(\"MAPE on val: \",mape(y_val, pred_val))\n",
        "\n",
        "imp_df = pd.DataFrame()\n",
        "imp_df[\"feature\"] = subset\n",
        "model = model_all_features\n",
        "imp_df[\"importance_gain\"] = model.feature_importances_#(importance_type='gain')\n",
        "#imp_df[\"importance_split\"] = model.feature_importance(importance_type='split')\n",
        "imp_df.sort_values('importance_gain', ascending=False)"
      ],
      "execution_count": 0,
      "outputs": [
        {
          "output_type": "stream",
          "text": [
            "MAPE on train:  0.10257934085538695\n",
            "MAPE on val:  0.12502064752196543\n"
          ],
          "name": "stdout"
        },
        {
          "output_type": "execute_result",
          "data": {
            "text/html": [
              "<div>\n",
              "<style scoped>\n",
              "    .dataframe tbody tr th:only-of-type {\n",
              "        vertical-align: middle;\n",
              "    }\n",
              "\n",
              "    .dataframe tbody tr th {\n",
              "        vertical-align: top;\n",
              "    }\n",
              "\n",
              "    .dataframe thead th {\n",
              "        text-align: right;\n",
              "    }\n",
              "</style>\n",
              "<table border=\"1\" class=\"dataframe\">\n",
              "  <thead>\n",
              "    <tr style=\"text-align: right;\">\n",
              "      <th></th>\n",
              "      <th>feature</th>\n",
              "      <th>importance_gain</th>\n",
              "    </tr>\n",
              "  </thead>\n",
              "  <tbody>\n",
              "    <tr>\n",
              "      <th>3</th>\n",
              "      <td>sqft_living</td>\n",
              "      <td>490</td>\n",
              "    </tr>\n",
              "    <tr>\n",
              "      <th>18</th>\n",
              "      <td>knn estim</td>\n",
              "      <td>364</td>\n",
              "    </tr>\n",
              "    <tr>\n",
              "      <th>12</th>\n",
              "      <td>yr_built</td>\n",
              "      <td>348</td>\n",
              "    </tr>\n",
              "    <tr>\n",
              "      <th>4</th>\n",
              "      <td>sqft_lot</td>\n",
              "      <td>315</td>\n",
              "    </tr>\n",
              "    <tr>\n",
              "      <th>15</th>\n",
              "      <td>long</td>\n",
              "      <td>312</td>\n",
              "    </tr>\n",
              "    <tr>\n",
              "      <th>16</th>\n",
              "      <td>sqft_living15</td>\n",
              "      <td>276</td>\n",
              "    </tr>\n",
              "    <tr>\n",
              "      <th>14</th>\n",
              "      <td>lat</td>\n",
              "      <td>266</td>\n",
              "    </tr>\n",
              "    <tr>\n",
              "      <th>9</th>\n",
              "      <td>grade</td>\n",
              "      <td>230</td>\n",
              "    </tr>\n",
              "    <tr>\n",
              "      <th>10</th>\n",
              "      <td>sqft_above</td>\n",
              "      <td>201</td>\n",
              "    </tr>\n",
              "    <tr>\n",
              "      <th>17</th>\n",
              "      <td>sqft_lot15</td>\n",
              "      <td>198</td>\n",
              "    </tr>\n",
              "    <tr>\n",
              "      <th>11</th>\n",
              "      <td>sqft_basement</td>\n",
              "      <td>158</td>\n",
              "    </tr>\n",
              "    <tr>\n",
              "      <th>7</th>\n",
              "      <td>view</td>\n",
              "      <td>132</td>\n",
              "    </tr>\n",
              "    <tr>\n",
              "      <th>8</th>\n",
              "      <td>condition</td>\n",
              "      <td>104</td>\n",
              "    </tr>\n",
              "    <tr>\n",
              "      <th>2</th>\n",
              "      <td>bathrooms</td>\n",
              "      <td>82</td>\n",
              "    </tr>\n",
              "    <tr>\n",
              "      <th>0</th>\n",
              "      <td>date</td>\n",
              "      <td>77</td>\n",
              "    </tr>\n",
              "    <tr>\n",
              "      <th>13</th>\n",
              "      <td>yr_renovated</td>\n",
              "      <td>63</td>\n",
              "    </tr>\n",
              "    <tr>\n",
              "      <th>1</th>\n",
              "      <td>bedrooms</td>\n",
              "      <td>46</td>\n",
              "    </tr>\n",
              "    <tr>\n",
              "      <th>6</th>\n",
              "      <td>waterfront</td>\n",
              "      <td>45</td>\n",
              "    </tr>\n",
              "    <tr>\n",
              "      <th>5</th>\n",
              "      <td>floors</td>\n",
              "      <td>43</td>\n",
              "    </tr>\n",
              "  </tbody>\n",
              "</table>\n",
              "</div>"
            ],
            "text/plain": [
              "          feature  importance_gain\n",
              "3     sqft_living              490\n",
              "18      knn estim              364\n",
              "12       yr_built              348\n",
              "4        sqft_lot              315\n",
              "15           long              312\n",
              "16  sqft_living15              276\n",
              "14            lat              266\n",
              "9           grade              230\n",
              "10     sqft_above              201\n",
              "17     sqft_lot15              198\n",
              "11  sqft_basement              158\n",
              "7            view              132\n",
              "8       condition              104\n",
              "2       bathrooms               82\n",
              "0            date               77\n",
              "13   yr_renovated               63\n",
              "1        bedrooms               46\n",
              "6      waterfront               45\n",
              "5          floors               43"
            ]
          },
          "metadata": {
            "tags": []
          },
          "execution_count": 21
        }
      ]
    },
    {
      "metadata": {
        "id": "tZ8M-LuZy_1A",
        "colab_type": "code",
        "outputId": "f2e663be-a783-43cc-8ec5-97e64e62dd95",
        "colab": {
          "base_uri": "https://localhost:8080/",
          "height": 87
        }
      },
      "cell_type": "code",
      "source": [
        "model_best_params"
      ],
      "execution_count": 0,
      "outputs": [
        {
          "output_type": "execute_result",
          "data": {
            "text/plain": [
              "{'boosting_type': 'gbdt',\n",
              " 'learning_rate': 0.1,\n",
              " 'n_estimators': 20,\n",
              " 'num_boost_round': 125}"
            ]
          },
          "metadata": {
            "tags": []
          },
          "execution_count": 22
        }
      ]
    },
    {
      "metadata": {
        "id": "kaGSoMxZEhp4",
        "colab_type": "text"
      },
      "cell_type": "markdown",
      "source": [
        "### Сохраняем наилучший (а возможно, слегка переобученный) вариант ответа учителя для дальнейших нужд:"
      ]
    },
    {
      "metadata": {
        "id": "P8rSNnOGE0NF",
        "colab_type": "code",
        "colab": {}
      },
      "cell_type": "code",
      "source": [
        "teacher_prediction = pred_train"
      ],
      "execution_count": 0,
      "outputs": []
    },
    {
      "metadata": {
        "id": "yXegxGukZHTY",
        "colab_type": "text"
      },
      "cell_type": "markdown",
      "source": [
        "### Что же, теперь смотрим, что мы можем изменить, обучая датасет на правильных ответах и на ответах учителя"
      ]
    },
    {
      "metadata": {
        "id": "D4QyaaQrYJyo",
        "colab_type": "code",
        "outputId": "e38b1a42-4af0-46bf-d13f-0a74b1b2fad9",
        "colab": {
          "base_uri": "https://localhost:8080/",
          "height": 105
        }
      },
      "cell_type": "code",
      "source": [
        "X_train.columns"
      ],
      "execution_count": 0,
      "outputs": [
        {
          "output_type": "execute_result",
          "data": {
            "text/plain": [
              "Index(['date', 'bedrooms', 'bathrooms', 'sqft_living', 'sqft_lot', 'floors',\n",
              "       'waterfront', 'view', 'condition', 'grade', 'sqft_above',\n",
              "       'sqft_basement', 'yr_built', 'yr_renovated', 'lat', 'long',\n",
              "       'sqft_living15', 'sqft_lot15', 'knn estim'],\n",
              "      dtype='object')"
            ]
          },
          "metadata": {
            "tags": []
          },
          "execution_count": 24
        }
      ]
    },
    {
      "metadata": {
        "id": "ZoXyq_pOYJ0d",
        "colab_type": "code",
        "colab": {}
      },
      "cell_type": "code",
      "source": [
        "nboost = 125\n",
        "param_grid = {\n",
        "    'learning_rate': [ 0.1],\n",
        "    'n_estimators': [20],\n",
        "    'num_boost_round': [nboost],\n",
        "    'boosting_type': ['gbdt'],\n",
        "}\n",
        "\n",
        "subset = ['sqft_living', 'lat', 'long', 'knn estim']"
      ],
      "execution_count": 0,
      "outputs": []
    },
    {
      "metadata": {
        "id": "LnA_JMrZQiKx",
        "colab_type": "text"
      },
      "cell_type": "markdown",
      "source": [
        "### Обучаем градиентные бустинги на только минимальном числе фич, и при этом имея лишь верные ответы"
      ]
    },
    {
      "metadata": {
        "id": "8lwmtXLYQzgw",
        "colab_type": "code",
        "outputId": "508ca161-e4f6-4fb1-d9ff-e399c42fdfe6",
        "colab": {
          "base_uri": "https://localhost:8080/",
          "height": 34
        }
      },
      "cell_type": "code",
      "source": [
        "subset"
      ],
      "execution_count": 0,
      "outputs": [
        {
          "output_type": "execute_result",
          "data": {
            "text/plain": [
              "['sqft_living', 'lat', 'long', 'knn estim']"
            ]
          },
          "metadata": {
            "tags": []
          },
          "execution_count": 41
        }
      ]
    },
    {
      "metadata": {
        "id": "zTH6e2suGCvk",
        "colab_type": "code",
        "outputId": "d2326c82-7cab-4b4f-dd2b-8e1f3d9b4c4f",
        "colab": {
          "base_uri": "https://localhost:8080/",
          "height": 34
        }
      },
      "cell_type": "code",
      "source": [
        "nboosts = np.linspace(50, 300, 250 // 25).astype(int)\n",
        "pred_trains = []\n",
        "pred_vals = []\n",
        "\n",
        "for nboost in tqdm(nboosts):\n",
        "  param_grid['num_boost_round'] = [nboost]\n",
        "  model, params = get_best_model(X_train[subset], y_train, X_val[subset], y_val)\n",
        "\n",
        "  pred_train = model.predict(X_train[subset].values)\n",
        "  pred_val = model.predict(X_val[subset].values)  \n",
        "  \n",
        "  pred_trains.append(mape(y_train, pred_train))\n",
        "  pred_vals.append(mape(y_val, pred_val))"
      ],
      "execution_count": 0,
      "outputs": [
        {
          "output_type": "stream",
          "text": [
            "100%|██████████| 10/10 [00:12<00:00,  1.68s/it]\n"
          ],
          "name": "stderr"
        }
      ]
    },
    {
      "metadata": {
        "id": "HOuYRdqIIPvc",
        "colab_type": "code",
        "outputId": "c8923ef4-4773-401b-8cb5-e52bffb15459",
        "colab": {
          "base_uri": "https://localhost:8080/",
          "height": 295
        }
      },
      "cell_type": "code",
      "source": [
        "plt.title('MAPE\\'s without teacher')\n",
        "plt.plot(nboosts, pred_trains, label='train')\n",
        "plt.plot(nboosts, pred_vals, label='validate')\n",
        "i_optim = np.argmin(pred_vals)\n",
        "plt.scatter(nboosts[i_optim], pred_vals[i_optim], label='optimum', c='r')\n",
        "plt.xlabel('num boost round')\n",
        "plt.legend()\n",
        "best_score = pred_vals[i_optim]"
      ],
      "execution_count": 0,
      "outputs": [
        {
          "output_type": "display_data",
          "data": {
            "image/png": "[encoded data removed]",
            "text/plain": [
              "<Figure size 432x288 with 1 Axes>"
            ]
          },
          "metadata": {
            "tags": []
          }
        }
      ]
    },
    {
      "metadata": {
        "id": "_-rAV4I_LEtQ",
        "colab_type": "code",
        "outputId": "c041b4d1-41de-4086-c89c-4fbcfa57ce8b",
        "colab": {
          "base_uri": "https://localhost:8080/",
          "height": 52
        }
      },
      "cell_type": "code",
      "source": [
        "print(\"The best number of boost rounds is {}\".format(nboosts[i_optim]))\n",
        "\n",
        "print(\"Best score for multimodelling is {}\".format(best_score))"
      ],
      "execution_count": 0,
      "outputs": [
        {
          "output_type": "stream",
          "text": [
            "The best number of boost rounds is 161\n",
            "Best score for multimodelling is 0.1525371713227941\n"
          ],
          "name": "stdout"
        }
      ]
    },
    {
      "metadata": {
        "id": "DJT_JlRGSDtg",
        "colab_type": "text"
      },
      "cell_type": "markdown",
      "source": [
        "Итак, best_score - это именно то, что мы пытаемся превзойти."
      ]
    },
    {
      "metadata": {
        "id": "MsCenjK6SYpM",
        "colab_type": "text"
      },
      "cell_type": "markdown",
      "source": [
        "### Обучение чисто на учителе:"
      ]
    },
    {
      "metadata": {
        "id": "Xc_yyQfLQNlp",
        "colab_type": "code",
        "colab": {}
      },
      "cell_type": "code",
      "source": [
        "def make_predict_on_processed_input(values = y_train):\n",
        "  model, _ = get_best_model(X_train[subset], values, X_val[subset], y_val)\n",
        "  pred_val = model.predict(X_val[subset].values)\n",
        "  print(\"y_val and pred_val: \")\n",
        "  print(mape(y_val, pred_val))\n",
        "  pred_train = model.predict(X_train[subset].values)\n",
        "  print(\"y_train and pred on train\")\n",
        "  print(mape(y_train, pred_train))\n",
        "  print(\"given train ans and pred on train\")\n",
        "  print(mape(values, pred_train))\n",
        "  return mape(y_val, pred_val)"
      ],
      "execution_count": 0,
      "outputs": []
    },
    {
      "metadata": {
        "id": "jdaAuXnO7_Mg",
        "colab_type": "code",
        "outputId": "8f8c0daa-1efc-4671-df16-387df4159701",
        "colab": {
          "base_uri": "https://localhost:8080/",
          "height": 158
        }
      },
      "cell_type": "code",
      "source": [
        "nboost = 200\n",
        "param_grid = {\n",
        "    'learning_rate': [ 0.1],\n",
        "    'n_estimators': [20],\n",
        "    'num_boost_round': [nboost],\n",
        "    'boosting_type': ['gbdt'],\n",
        "}\n",
        "\n",
        "subset = ['sqft_living', 'lat', 'long', 'knn estim']\n",
        "\n",
        "print(\" num bust is {}\".format(nboost))\n",
        "#print(\"TRAINED ON ORIGINAL VALUES: \")\n",
        "#make_predict_on_processed_input()\n",
        "print(\"TRAINED WITH TEACHER: \")\n",
        "_ = make_predict_on_processed_input(teacher_prediction)"
      ],
      "execution_count": 0,
      "outputs": [
        {
          "output_type": "stream",
          "text": [
            " num bust is 200\n",
            "TRAINED WITH TEACHER: \n",
            "y_val and pred_val: \n",
            "0.15445789856729386\n",
            "y_train and pred on train\n",
            "0.14165389610134588\n",
            "given train ans and pred on train\n",
            "0.07275787831573868\n"
          ],
          "name": "stdout"
        }
      ]
    },
    {
      "metadata": {
        "id": "2Q2wLDwZV_Uy",
        "colab_type": "code",
        "colab": {
          "base_uri": "https://localhost:8080/",
          "height": 34
        },
        "outputId": "a684c260-3e95-4ac3-bce4-474fed375426"
      },
      "cell_type": "code",
      "source": [
        "nboosts = np.linspace(50, 300, 250 // 25).astype(int)\n",
        "pred_trains = []\n",
        "pred_vals = []\n",
        "for nboost in tqdm(nboosts):\n",
        "  param_grid['num_boost_round'] = [nboost]\n",
        "  model, params = get_best_model(X_train[subset], teacher_prediction,\n",
        "                                 X_val[subset], y_val)\n",
        "  pred_train = model.predict(X_train[subset].values)\n",
        "  pred_val = model.predict(X_val[subset].values)  \n",
        "  \n",
        "  pred_trains.append(mape(y_train, pred_train))\n",
        "  pred_vals.append(mape(y_val, pred_val))"
      ],
      "execution_count": 56,
      "outputs": [
        {
          "output_type": "stream",
          "text": [
            "100%|██████████| 10/10 [00:13<00:00,  1.76s/it]\n"
          ],
          "name": "stderr"
        }
      ]
    },
    {
      "metadata": {
        "id": "Jap2FZT7TwCq",
        "colab_type": "code",
        "colab": {
          "base_uri": "https://localhost:8080/",
          "height": 295
        },
        "outputId": "03cec2ac-1585-462d-d5d5-a3646da35e9c"
      },
      "cell_type": "code",
      "source": [
        "plt.title('MAPE\\'s without teacher')\n",
        "plt.plot(nboosts, pred_trains, label='train')\n",
        "plt.plot(nboosts, pred_vals, label='validate')\n",
        "i_optim = np.argmin(pred_vals)\n",
        "plt.scatter(nboosts[i_optim], pred_vals[i_optim], label='optimum', c='r')\n",
        "\n",
        "plt.plot(nboosts, best_score * np.ones(len(nboosts)), label='best score without teacher')\n",
        "\n",
        "plt.xlabel('num boost round')\n",
        "plt.legend()\n",
        "best_try = pred_vals[i_optim]"
      ],
      "execution_count": 58,
      "outputs": [
        {
          "output_type": "display_data",
          "data": {
            "image/png": "[encoded data removed]",
            "text/plain": [
              "<Figure size 432x288 with 1 Axes>"
            ]
          },
          "metadata": {
            "tags": []
          }
        }
      ]
    },
    {
      "metadata": {
        "id": "690a6br1WNxm",
        "colab_type": "code",
        "colab": {}
      },
      "cell_type": "code",
      "source": [
        ""
      ],
      "execution_count": 0,
      "outputs": []
    },
    {
      "metadata": {
        "id": "Xrv60g97WNvT",
        "colab_type": "code",
        "colab": {}
      },
      "cell_type": "code",
      "source": [
        ""
      ],
      "execution_count": 0,
      "outputs": []
    },
    {
      "metadata": {
        "id": "C_CrDYd_TyY9",
        "colab_type": "text"
      },
      "cell_type": "markdown",
      "source": [
        "### Начинаем делать сглаженные предсказания"
      ]
    },
    {
      "metadata": {
        "id": "NWIcfWe3Tgn2",
        "colab_type": "code",
        "colab": {}
      },
      "cell_type": "code",
      "source": [
        "def get_lightened_predictions(y_real, y_teacher, lambd):\n",
        "  # lambd = 0 - учимся без \"учителя\"\n",
        "  # lambd = 1 - учимся чисто на \"учителе\"\n",
        "  return (1 - lambd) * y_real + lambd * y_teacher\n",
        "\n",
        "def make_prediction_by_lambd(lambd):\n",
        "  pred_vals = []\n",
        "  for nboost in tqdm(nboosts):\n",
        "    param_grid['num_boost_round'] = [nboost]\n",
        "    to_train = get_lightened_predictions(y_train, teacher_prediction, lambd)\n",
        "    model, params = get_best_model(X_train[subset], to_train,\n",
        "                                   X_val[subset], y_val)\n",
        "    pred_val = model.predict(X_val[subset].values)\n",
        "    pred_vals.append(mape(y_val, pred_val))\n",
        "  return pred_vals"
      ],
      "execution_count": 0,
      "outputs": []
    },
    {
      "metadata": {
        "id": "3Vb72674W8uG",
        "colab_type": "code",
        "colab": {
          "base_uri": "https://localhost:8080/",
          "height": 34
        },
        "outputId": "8f0fc966-235d-48fb-eebb-3bc6b3272df6"
      },
      "cell_type": "code",
      "source": [
        "nboosts_max = 600\n",
        "nboosts = np.linspace(100, nboosts_max, (nboosts_max - 100) // 25).astype(int)\n",
        "\n",
        "lambds = np.linspace(0, 1, 5)[1:]\n",
        "lambds"
      ],
      "execution_count": 109,
      "outputs": [
        {
          "output_type": "execute_result",
          "data": {
            "text/plain": [
              "array([0.25, 0.5 , 0.75, 1.  ])"
            ]
          },
          "metadata": {
            "tags": []
          },
          "execution_count": 109
        }
      ]
    },
    {
      "metadata": {
        "id": "3KiaFq4waQFr",
        "colab_type": "code",
        "colab": {
          "base_uri": "https://localhost:8080/",
          "height": 105
        },
        "outputId": "18e06247-51fa-4e1c-eac2-f04625b6bf8a"
      },
      "cell_type": "code",
      "source": [
        "to_plot = []\n",
        "print(\"There will be {} tqdms\".format(len(lambds)))\n",
        "for lambd in lambds:\n",
        "  to_plot.append(make_prediction_by_lambd(lambd))"
      ],
      "execution_count": 103,
      "outputs": [
        {
          "output_type": "stream",
          "text": [
            "\r  0%|          | 0/20 [00:00<?, ?it/s]"
          ],
          "name": "stderr"
        },
        {
          "output_type": "stream",
          "text": [
            "There will be 4 tqdms\n"
          ],
          "name": "stdout"
        },
        {
          "output_type": "stream",
          "text": [
            "100%|██████████| 20/20 [00:50<00:00,  3.92s/it]\n",
            "100%|██████████| 20/20 [00:50<00:00,  3.93s/it]\n",
            "100%|██████████| 20/20 [00:51<00:00,  3.96s/it]\n",
            "100%|██████████| 20/20 [00:51<00:00,  4.05s/it]\n"
          ],
          "name": "stderr"
        }
      ]
    },
    {
      "metadata": {
        "id": "JPVEudoSXa-R",
        "colab_type": "code",
        "colab": {
          "base_uri": "https://localhost:8080/",
          "height": 621
        },
        "outputId": "fd91f05c-4d7d-4ca2-9aff-35aceebf71e3"
      },
      "cell_type": "code",
      "source": [
        "plt.figure(figsize=(10, 10))\n",
        "\n",
        "plt.title('lightened MAPE\\'s')\n",
        "\n",
        "for pred_vals, lambd in zip(to_plot, lambds):\n",
        "  i_optim = np.argmin(pred_vals)\n",
        "  plt.plot(nboosts, pred_vals, label='lambd = {}'.format(lambd))\n",
        "  plt.scatter(nboosts[i_optim], pred_vals[i_optim], c='r')\n",
        "  \n",
        "  \n",
        "plt.plot(nboosts, best_score * np.ones(len(nboosts)), label='best score without teacher')\n",
        "\n",
        "plt.xlabel('num boost round')\n",
        "plt.legend()\n",
        "best_try = pred_vals[i_optim]"
      ],
      "execution_count": 105,
      "outputs": [
        {
          "output_type": "display_data",
          "data": {
            "image/png": "[encoded data removed]",
            "text/plain": [
              "<Figure size 720x720 with 1 Axes>"
            ]
          },
          "metadata": {
            "tags": []
          }
        }
      ]
    },
    {
      "metadata": {
        "id": "U6mwLuIpf6Oo",
        "colab_type": "text"
      },
      "cell_type": "markdown",
      "source": [
        "### Плохо. Что же, опробуем примерно то же самое, но только возьмем меньшие lambd "
      ]
    },
    {
      "metadata": {
        "id": "o__0tmaBfkFy",
        "colab_type": "code",
        "colab": {
          "base_uri": "https://localhost:8080/",
          "height": 34
        },
        "outputId": "0b7878b7-9488-41de-f8ab-0c97f138d07a"
      },
      "cell_type": "code",
      "source": [
        "nboosts_max = 300\n",
        "nboosts = np.linspace(100, nboosts_max, (nboosts_max - 100) // 25).astype(int)\n",
        "\n",
        "lambds = np.linspace(0, 0.1, 5)\n",
        "lambds"
      ],
      "execution_count": 113,
      "outputs": [
        {
          "output_type": "execute_result",
          "data": {
            "text/plain": [
              "array([0.   , 0.025, 0.05 , 0.075, 0.1  ])"
            ]
          },
          "metadata": {
            "tags": []
          },
          "execution_count": 113
        }
      ]
    },
    {
      "metadata": {
        "id": "GtMktdNrXz_F",
        "colab_type": "code",
        "colab": {
          "base_uri": "https://localhost:8080/",
          "height": 122
        },
        "outputId": "10aa2fd6-82f9-45d6-92bc-8fe9b1aa6927"
      },
      "cell_type": "code",
      "source": [
        "to_plot = []\n",
        "print(\"There will be {} tqdms\".format(len(lambds)))\n",
        "for lambd in lambds:\n",
        "  to_plot.append(make_prediction_by_lambd(lambd))"
      ],
      "execution_count": 114,
      "outputs": [
        {
          "output_type": "stream",
          "text": [
            "\r  0%|          | 0/8 [00:00<?, ?it/s]"
          ],
          "name": "stderr"
        },
        {
          "output_type": "stream",
          "text": [
            "There will be 5 tqdms\n"
          ],
          "name": "stdout"
        },
        {
          "output_type": "stream",
          "text": [
            "100%|██████████| 8/8 [00:11<00:00,  1.75s/it]\n",
            "100%|██████████| 8/8 [00:11<00:00,  1.75s/it]\n",
            "100%|██████████| 8/8 [00:11<00:00,  1.74s/it]\n",
            "100%|██████████| 8/8 [00:11<00:00,  1.74s/it]\n",
            "100%|██████████| 8/8 [00:11<00:00,  1.75s/it]\n"
          ],
          "name": "stderr"
        }
      ]
    },
    {
      "metadata": {
        "id": "LjdyQlnUdbMk",
        "colab_type": "code",
        "colab": {
          "base_uri": "https://localhost:8080/",
          "height": 621
        },
        "outputId": "d18852cd-9dbf-4f43-88f0-3d9bdcff09aa"
      },
      "cell_type": "code",
      "source": [
        "plt.figure(figsize=(10, 10))\n",
        "\n",
        "plt.title('lightened MAPE\\'s (small lambds)')\n",
        "\n",
        "for pred_vals, lambd in zip(to_plot, lambds):\n",
        "  i_optim = np.argmin(pred_vals)\n",
        "  plt.plot(nboosts, pred_vals, label='lambd = {}'.format(lambd))\n",
        "  plt.scatter(nboosts[i_optim], pred_vals[i_optim], c='r')\n",
        "  \n",
        "  \n",
        "plt.plot(nboosts, best_score * np.ones(len(nboosts)), label='best score without teacher')\n",
        "\n",
        "plt.xlabel('num boost round')\n",
        "plt.legend()\n",
        "best_try = pred_vals[i_optim]"
      ],
      "execution_count": 115,
      "outputs": [
        {
          "output_type": "display_data",
          "data": {
            "image/png": "[encoded data removed]",
            "text/plain": [
              "<Figure size 720x720 with 1 Axes>"
            ]
          },
          "metadata": {
            "tags": []
          }
        }
      ]
    },
    {
      "metadata": {
        "id": "t2B9rYbXiofh",
        "colab_type": "code",
        "colab": {}
      },
      "cell_type": "code",
      "source": [
        "mape()"
      ],
      "execution_count": 0,
      "outputs": []
    },
    {
      "metadata": {
        "id": "uyR36rrVhE8h",
        "colab_type": "text"
      },
      "cell_type": "markdown",
      "source": [
        "### Все весьма плохо. Попробуем хотя бы применить смесь экспертов\n",
        "\n",
        "Для этого требуется создать отдельный класс эстиматора со сглаживанием, и импортировать  некоторую вспомогательную штуку"
      ]
    },
    {
      "metadata": {
        "id": "6iUQaAMFnofc",
        "colab_type": "code",
        "colab": {
          "base_uri": "https://localhost:8080/",
          "height": 34
        },
        "outputId": "8f4b3c97-3c50-4aec-ab3d-aba716355481"
      },
      "cell_type": "code",
      "source": [
        "import numpy as np\n",
        "from matplotlib import pyplot as plt\n",
        "from sklearn.externals import joblib\n",
        "from sklearn.linear_model import LinearRegression\n",
        "from tqdm import tqdm\n",
        "\n",
        "\n",
        "import lasagne\n",
        "import theano\n",
        "import theano.tensor as T\n",
        "import tqdm\n",
        "import random\n",
        "\n",
        "import keras\n",
        "import tqdm\n",
        "\n",
        "import numpy as np\n",
        "from sklearn.externals import joblib\n",
        "\n",
        "import matplotlib\n",
        "matplotlib.rcParams.update({'font.size': 16})"
      ],
      "execution_count": 141,
      "outputs": [
        {
          "output_type": "stream",
          "text": [
            "Using TensorFlow backend.\n"
          ],
          "name": "stderr"
        }
      ]
    },
    {
      "metadata": {
        "id": "shmSTUxsjAk4",
        "colab_type": "code",
        "colab": {}
      },
      "cell_type": "code",
      "source": [
        "y_train_nn = y_train.values.reshape(-1, 1)\n",
        "y_val_nn = y_val.values.reshape(-1, 1)\n",
        "teacher_prediction_nn = teacher_prediction.reshape(-1, 1)"
      ],
      "execution_count": 0,
      "outputs": []
    },
    {
      "metadata": {
        "id": "StgBEEi8mHSi",
        "colab_type": "code",
        "colab": {}
      },
      "cell_type": "code",
      "source": [
        ""
      ],
      "execution_count": 0,
      "outputs": []
    },
    {
      "metadata": {
        "id": "WEPF6wV_ljRf",
        "colab_type": "text"
      },
      "cell_type": "markdown",
      "source": [
        "# Поменять loss!!"
      ]
    },
    {
      "metadata": {
        "id": "B_CvfSWadbRZ",
        "colab_type": "code",
        "colab": {}
      },
      "cell_type": "code",
      "source": [
        "def estimator_loss(y, y_pred):\n",
        "    return ((y - y_pred)**2).sum(-1)\n",
        "\n",
        "class GatingEnsemble:\n",
        "    \n",
        "    def __init__(self, estimators, estimator_loss=estimator_loss, n_hidden_units=50,\n",
        "                loging=False):\n",
        "\n",
        "        self.estimators = estimators\n",
        "        self.estimator_loss = estimator_loss\n",
        "        self.n_hidden_units = n_hidden_units # number of hidden units in gate1\n",
        "        \n",
        "        self.regularizer=theano.shared(np.float32(0.5),name='entropy reg',allow_downcast=True)\n",
        "        self.regularizer_decay=0.99\n",
        "        self.loging=loging\n",
        "    \n",
        "    def log(self, string):\n",
        "        if self.loging:\n",
        "          print(string)\n",
        "    \n",
        "    def fit(self,X,y,n_iter=500):\n",
        "        \n",
        "        self.compile_gf((None,)+X.shape[1:])\n",
        "        params_vec = []\n",
        "        k = 0\n",
        "        for i in range(n_iter):\n",
        "            self.log(\"Launched iteration {} of {} \".format(i + 1, n_iter))\n",
        "            self.refit_estimators(X,y)\n",
        "            self.refit_gf(X,y,n_iter=10)\n",
        "            self.regularizer.set_value(self.regularizer_decay*self.regularizer.get_value())\n",
        "        \n",
        "    \n",
        "    def refit_gf(self,X,y,n_iter=7):\n",
        "        best_estimator_ix = np.argmin([self.estimator_loss(y,est.predict(X))\n",
        "                                 for est in self.estimators],axis=0).astype('int32')\n",
        "        \n",
        "        for i in range(n_iter):\n",
        "            self.fit_nn_step(X,best_estimator_ix)\n",
        "        \n",
        "    def refit_estimators(self,X,y):\n",
        "        #ix = np.random.randint(0,len(X),size=len(X))\n",
        "        #X,y = X[ix],y[ix]\n",
        "        W = self.get_W(X)\n",
        "        W = (W == np.max(W,axis=1,keepdims=True)).astype('float32')\n",
        "        W /= W.sum(axis=0,keepdims=True)\n",
        "        W[np.isnan(W)] = 1./W.shape[1]\n",
        "        \n",
        "        # print(W[:1])\n",
        "        self.estimators = [est.fit(X,y,sample_weight=W[:,i]) for i,est in enumerate(self.estimators)] # fails if estimator has no \"sample_weight argument\n",
        "        \n",
        "        \n",
        "        #\n",
        "        # Вроде пока не нужно, но кто её знает\n",
        "        # \n",
        "        \n",
        "        # self.get_est_params = [est.get_params() for est in self.estimators]\n",
        "        \n",
        "    def build_gating_function(self,x_shape,n_gates):\n",
        "        \n",
        "        #Input layer (auxilary)\n",
        "        input_layer = lasagne.layers.InputLayer(shape = x_shape)\n",
        "\n",
        "        #fully connected layer, that takes input layer and applies <n_hidden_units> neurons to it.\n",
        "        # nonlinearity here is sigmoid as in logistic regression\n",
        "        dense_1 = lasagne.layers.DenseLayer(input_layer,num_units=self.n_hidden_units, W=lasagne.init.Normal(0.01),\n",
        "                                          nonlinearity = lasagne.nonlinearities.tanh,\n",
        "                                          name = \"hidden_dense_layer\")\n",
        "        \n",
        "        \n",
        "\n",
        "        #fully connected output layer that takes dense_1 as input and has 10 neurons (1 for each digit)\n",
        "        #We use softmax nonlinearity to make probabilities add up to 1\n",
        "        dense_logit = lasagne.layers.DenseLayer(dense_1,num_units = n_gates,\n",
        "                                                 nonlinearity = None,\n",
        "                                                 name='output')\n",
        "        \n",
        "        dense_logit = lasagne.layers.GaussianNoiseLayer(dense_logit,0.01)\n",
        "        \n",
        "        dense_output = lasagne.layers.NonlinearityLayer(dense_logit,T.nnet.softmax)\n",
        "        return dense_output\n",
        "    \n",
        "    def compile_gf(self,x_shape):\n",
        "        \n",
        "        input_X = T.matrix(\"X\")\n",
        "        \n",
        "        target_W_of_x = T.ivector(\"W(x) target - probability that i-th estimator is best\")\n",
        "        \n",
        "        nn = self.nn = self.build_gating_function(x_shape,n_gates=len(self.estimators))\n",
        "        \n",
        "        w_predicted = lasagne.layers.get_output(nn,inputs=input_X)\n",
        "        \n",
        "        loss = lasagne.objectives.categorical_crossentropy(w_predicted,target_W_of_x).mean()        \n",
        "        loss += self.regularizer*(w_predicted*T.log(w_predicted)).sum(1).mean() #negative entropy\n",
        "        \n",
        "        \n",
        "        nn_params = lasagne.layers.get_all_params(self.nn,trainable=True)\n",
        "        \n",
        "        updates = lasagne.updates.adamax(loss,nn_params)\n",
        "        \n",
        "        self.fit_nn_step = theano.function([input_X,target_W_of_x],loss, updates=updates)\n",
        "        self.get_W = theano.function([input_X], w_predicted)\n",
        "    \n",
        "    def predict(self,X):\n",
        "        W = self.get_W(X)        \n",
        "        base_predictions = np.stack([est.predict(X) for est in self.estimators],axis=1)    \n",
        "        return (W[:,:,None]*base_predictions).sum(axis=1)"
      ],
      "execution_count": 0,
      "outputs": []
    },
    {
      "metadata": {
        "id": "dlQQZDSSo6th",
        "colab_type": "text"
      },
      "cell_type": "markdown",
      "source": [
        "Опробуем сначала на линеейных регрессорах, чтобы понять, что функция в целом работает"
      ]
    },
    {
      "metadata": {
        "id": "UsoJt5bjhDYO",
        "colab_type": "code",
        "colab": {
          "base_uri": "https://localhost:8080/",
          "height": 193
        },
        "outputId": "d037ce49-62f9-4488-8629-04ede787129f"
      },
      "cell_type": "code",
      "source": [
        "num_estimators = 4\n",
        "estimators = [LinearRegression() for i in range(num_estimators)]\n",
        "\n",
        "neural_ensemble = GatingEnsemble(estimators, \n",
        "                                    loging=True)\n",
        "\n",
        "neural_ensemble.fit(X_train, y_train_nn, n_iter=10)"
      ],
      "execution_count": 151,
      "outputs": [
        {
          "output_type": "stream",
          "text": [
            "Launched iteration 1 of 10 \n",
            "Launched iteration 2 of 10 \n",
            "Launched iteration 3 of 10 \n",
            "Launched iteration 4 of 10 \n",
            "Launched iteration 5 of 10 \n",
            "Launched iteration 6 of 10 \n",
            "Launched iteration 7 of 10 \n",
            "Launched iteration 8 of 10 \n",
            "Launched iteration 9 of 10 \n",
            "Launched iteration 10 of 10 \n"
          ],
          "name": "stdout"
        }
      ]
    },
    {
      "metadata": {
        "id": "GItTFKxchDfx",
        "colab_type": "code",
        "colab": {}
      },
      "cell_type": "code",
      "source": [
        "ens_val_predict_nn = neural_ensemble.predict(X_val)"
      ],
      "execution_count": 0,
      "outputs": []
    },
    {
      "metadata": {
        "id": "hh7AIlcRdbT3",
        "colab_type": "code",
        "colab": {
          "base_uri": "https://localhost:8080/",
          "height": 34
        },
        "outputId": "4dc57655-e857-402e-d7a1-f7f627d929bd"
      },
      "cell_type": "code",
      "source": [
        "mape(y_val, ens_val_predict_nn.ravel())"
      ],
      "execution_count": 153,
      "outputs": [
        {
          "output_type": "execute_result",
          "data": {
            "text/plain": [
              "0.1963455987562903"
            ]
          },
          "metadata": {
            "tags": []
          },
          "execution_count": 153
        }
      ]
    },
    {
      "metadata": {
        "id": "Q4khM2WepTHN",
        "colab_type": "text"
      },
      "cell_type": "markdown",
      "source": [
        "Очень странная фигня: берем несколько одинаковых ансамблей, закидываем их  в смесь экспертов, получаем ухудшение качества... Оно, еще, кстати, сильно меняется с перезапусками процесса, что, в свою очередь, наоборот, неудивительно: внутри ведь нейронка. Теперь пишем собственный класс, содержащий в себе, на самом деле, lightgbm"
      ]
    },
    {
      "metadata": {
        "id": "UkxsuyRfdbax",
        "colab_type": "code",
        "colab": {}
      },
      "cell_type": "code",
      "source": [
        "class SimpleEstimator:\n",
        "  def __init__(self, lambd, num_boost_round):\n",
        "    self.lambd = lambd\n",
        "    self.num_boost_round = num_boost_round\n",
        "\n",
        "  def fit(self, X, Y, sample_weight = None):\n",
        "    if sample_weight is None:\n",
        "      sample_weight = np.array(np.ones(len(X)) / len(X))\n",
        "\n",
        "    real_y = get_lightened_predictions(y_train_nn,\n",
        "                                       teacher_prediction_nn, self.lambd)\n",
        "    \n",
        "    params = {\n",
        "    'objective': 'regression',\n",
        "    'metric': {'mape'},\n",
        "    'num_leaves': 60,\n",
        "    'verbose': 0\n",
        "    }\n",
        "    \n",
        "    param_grid = {\n",
        "       'learning_rate': [ 0.1],\n",
        "       'n_estimators': [20],\n",
        "       'num_boost_round': [self.num_boost_round],\n",
        "       'boosting_type': ['gbdt'],\n",
        "    }\n",
        "    \n",
        "    self.model = lgb.LGBMRegressor(params)\n",
        "    self.model = GridSearchCV(self.model, param_grid, cv=3)\n",
        "    self.model.fit(X, real_y.ravel(), sample_weight=sample_weight)\n",
        "    self.model = self.model.best_estimator_\n",
        "    return self\n",
        "    \n",
        "  def predict(self, X): \n",
        "    return self.model.predict(X).reshape(-1, 1)"
      ],
      "execution_count": 0,
      "outputs": []
    },
    {
      "metadata": {
        "id": "Sb6dbo6c0v8s",
        "colab_type": "text"
      },
      "cell_type": "markdown",
      "source": [
        ""
      ]
    },
    {
      "metadata": {
        "id": "7WAi-cpqpMeM",
        "colab_type": "code",
        "colab": {}
      },
      "cell_type": "code",
      "source": [
        "simple_est = SimpleEstimator(lambd=0, num_boost_round = 150)\n",
        "simple_est.fit(X_train, y_train_nn)\n",
        "mape(y_val[:10], simple_est.predict(X_val))"
      ],
      "execution_count": 0,
      "outputs": []
    },
    {
      "metadata": {
        "id": "bX2sUyKFvHtV",
        "colab_type": "code",
        "colab": {}
      },
      "cell_type": "code",
      "source": [
        "params = [[0.1, 210], [0.25, 210], [0.75, 400]]\n",
        "estimators = [SimpleEstimator(lambd, num_boost_round) for lambd,\n",
        "              num_boost_round in params]"
      ],
      "execution_count": 0,
      "outputs": []
    },
    {
      "metadata": {
        "id": "tM22UFMNpMcS",
        "colab_type": "code",
        "colab": {
          "base_uri": "https://localhost:8080/",
          "height": 193
        },
        "outputId": "44f099f4-7c08-4534-8f54-03d51a84d205"
      },
      "cell_type": "code",
      "source": [
        "neural_ensemble = GatingEnsemble(estimators, \n",
        "                                    loging=True)\n",
        "\n",
        "neural_ensemble.fit(X_train, y_train_nn, n_iter=10)"
      ],
      "execution_count": 195,
      "outputs": [
        {
          "output_type": "stream",
          "text": [
            "Launched iteration 1 of 10 \n",
            "Launched iteration 2 of 10 \n",
            "Launched iteration 3 of 10 \n",
            "Launched iteration 4 of 10 \n",
            "Launched iteration 5 of 10 \n",
            "Launched iteration 6 of 10 \n",
            "Launched iteration 7 of 10 \n",
            "Launched iteration 8 of 10 \n",
            "Launched iteration 9 of 10 \n",
            "Launched iteration 10 of 10 \n"
          ],
          "name": "stdout"
        }
      ]
    },
    {
      "metadata": {
        "id": "MNkuv3iu0fL8",
        "colab_type": "code",
        "colab": {
          "base_uri": "https://localhost:8080/",
          "height": 193
        },
        "outputId": "3e87741b-554b-46c7-e2f7-6faa3648714f"
      },
      "cell_type": "code",
      "source": [
        "neural_ensemble.predict(X_val)[:10]"
      ],
      "execution_count": 196,
      "outputs": [
        {
          "output_type": "execute_result",
          "data": {
            "text/plain": [
              "array([[309.94607078],\n",
              "       [251.54508067],\n",
              "       [177.3917084 ],\n",
              "       [193.2316374 ],\n",
              "       [137.77624949],\n",
              "       [194.31314255],\n",
              "       [220.90123285],\n",
              "       [146.72304806],\n",
              "       [171.64492317],\n",
              "       [232.75028504]])"
            ]
          },
          "metadata": {
            "tags": []
          },
          "execution_count": 196
        }
      ]
    },
    {
      "metadata": {
        "id": "76LMxdVz0fO1",
        "colab_type": "code",
        "colab": {
          "base_uri": "https://localhost:8080/",
          "height": 193
        },
        "outputId": "0170a2aa-4242-40fe-f98b-fed0a5374d7f"
      },
      "cell_type": "code",
      "source": [
        "y_val_nn[:10]"
      ],
      "execution_count": 197,
      "outputs": [
        {
          "output_type": "execute_result",
          "data": {
            "text/plain": [
              "array([[376.98412698],\n",
              "       [274.03846154],\n",
              "       [155.03937008],\n",
              "       [209.26724138],\n",
              "       [128.0155642 ],\n",
              "       [190.26548673],\n",
              "       [206.4516129 ],\n",
              "       [148.10126582],\n",
              "       [117.67676768],\n",
              "       [246.53846154]])"
            ]
          },
          "metadata": {
            "tags": []
          },
          "execution_count": 197
        }
      ]
    },
    {
      "metadata": {
        "id": "9OueCAKw0fSK",
        "colab_type": "code",
        "colab": {
          "base_uri": "https://localhost:8080/",
          "height": 34
        },
        "outputId": "05a387bf-1f92-4c58-ecfb-f85bbcab0862"
      },
      "cell_type": "code",
      "source": [
        "mape(neural_ensemble.predict(X_val), y_val_nn)"
      ],
      "execution_count": 198,
      "outputs": [
        {
          "output_type": "execute_result",
          "data": {
            "text/plain": [
              "0.15410770562712434"
            ]
          },
          "metadata": {
            "tags": []
          },
          "execution_count": 198
        }
      ]
    },
    {
      "metadata": {
        "id": "50YB0sij1MLd",
        "colab_type": "code",
        "colab": {}
      },
      "cell_type": "code",
      "source": [
        ""
      ],
      "execution_count": 0,
      "outputs": []
    },
    {
      "metadata": {
        "id": "iIc-z7IV1MOi",
        "colab_type": "code",
        "colab": {}
      },
      "cell_type": "code",
      "source": [
        ""
      ],
      "execution_count": 0,
      "outputs": []
    },
    {
      "metadata": {
        "id": "RCtwhgtbdbpW",
        "colab_type": "text"
      },
      "cell_type": "markdown",
      "source": [
        "# Здесь мусор всякий"
      ]
    },
    {
      "metadata": {
        "id": "Ei4sXBRMdbtN",
        "colab_type": "text"
      },
      "cell_type": "markdown",
      "source": [
        ""
      ]
    },
    {
      "metadata": {
        "id": "PkalUuoETg3K",
        "colab_type": "code",
        "colab": {}
      },
      "cell_type": "code",
      "source": [
        ""
      ],
      "execution_count": 0,
      "outputs": []
    },
    {
      "metadata": {
        "id": "4yYrBzNrTg0V",
        "colab_type": "code",
        "colab": {}
      },
      "cell_type": "code",
      "source": [
        "results = []\n",
        "for lambd in lamds:\n",
        "  to_train = get_lightened_predictions(y_train, teacher_prediction, lambd)\n",
        "  "
      ],
      "execution_count": 0,
      "outputs": []
    },
    {
      "metadata": {
        "id": "7ZMTjTfhTguD",
        "colab_type": "code",
        "colab": {}
      },
      "cell_type": "code",
      "source": [
        ""
      ],
      "execution_count": 0,
      "outputs": []
    },
    {
      "metadata": {
        "id": "KWQ2XPVBTglZ",
        "colab_type": "code",
        "colab": {}
      },
      "cell_type": "code",
      "source": [
        ""
      ],
      "execution_count": 0,
      "outputs": []
    },
    {
      "metadata": {
        "id": "GN-VfxcFTgia",
        "colab_type": "code",
        "colab": {}
      },
      "cell_type": "code",
      "source": [
        ""
      ],
      "execution_count": 0,
      "outputs": []
    },
    {
      "metadata": {
        "id": "Jr_UXweRQ-4D",
        "colab_type": "code",
        "outputId": "a6d6ab40-7f01-4f34-f1fc-c32e219939d8",
        "colab": {
          "base_uri": "https://localhost:8080/",
          "height": 34
        }
      },
      "cell_type": "code",
      "source": [
        "np.linspace(50, 500, 10).astype(int)"
      ],
      "execution_count": 0,
      "outputs": [
        {
          "output_type": "execute_result",
          "data": {
            "text/plain": [
              "array([ 50, 100, 150, 200, 250, 300, 350, 400, 450, 500])"
            ]
          },
          "metadata": {
            "tags": []
          },
          "execution_count": 39
        }
      ]
    },
    {
      "metadata": {
        "id": "OEUV6QUywZJI",
        "colab_type": "code",
        "outputId": "39982f9b-c595-4eb4-e586-ed030bd0031d",
        "colab": {
          "base_uri": "https://localhost:8080/",
          "height": 34
        }
      },
      "cell_type": "code",
      "source": [
        "#teacher_grid = np.linspace(300, 1000, 10).astype(int)\n",
        "teacher_grid = []#np.linspace()\n",
        "teacher_predictions = []\n",
        "\n",
        "for teacher_n in tqdm(teacher_grid):\n",
        "  param_grid = {\n",
        "      'learning_rate': [ 0.1],\n",
        "      'n_estimators': [20],\n",
        "      'num_boost_round': [teacher_n],\n",
        "      'boosting_type': ['gbdt'],\n",
        "  }\n",
        "\n",
        "  subset_full = X_train.columns\n",
        "\n",
        "  model_all_features = get_best_model(X_train[subset_full], y_train, X_val[subset], y_val)\n",
        "  pred_val = model_all_features.predict(X_val[subset_full].values)\n",
        "  # print(mape(y_val, pred_val))\n",
        "  pred_train = model_all_features.predict(X_train[subset_full].values)\n",
        "  # print(mape(y_train, pred_train))\n",
        "\n",
        "  teacher_prediction = pred_train\n",
        "  teacher_predictions.append(teacher_prediction)"
      ],
      "execution_count": 0,
      "outputs": [
        {
          "output_type": "stream",
          "text": [
            "\r0it [00:00, ?it/s]\n"
          ],
          "name": "stderr"
        }
      ]
    },
    {
      "metadata": {
        "id": "4nKMPBgrwZLT",
        "colab_type": "code",
        "colab": {}
      },
      "cell_type": "code",
      "source": [
        "nboosts = np.linspace(150, 550, 10).astype(int)\n",
        "\n",
        "\n",
        "def get_lightened_predictions(y_real, y_teacher, lambd):\n",
        "  # lambd = 0 - учимся без \"учителя\"\n",
        "  # lambd = 1 - учимся чисто на \"учителе\"\n",
        "  return (1 - lambd) * y_real + lambd * y_teacher\n",
        "\n",
        "def compare_qualities(lambd = 1):\n",
        "  plt.figure(figsize=(12, 12))\n",
        "  plt.title('MAPE\\'s without teacher and lambd = {}'.format(lambd))\n",
        "  for i in range(len(teacher_grid)):\n",
        "    teacher_prediction = teacher_predictions[i]\n",
        "    our_y = get_lightened_predictions(y_train, teacher_prediction, lambd)\n",
        "    #pred_trains = []\n",
        "    pred_vals_ = []\n",
        "\n",
        "    for nboost in tqdm(nboosts):\n",
        "      param_grid['num_boost_round'] = [nboost]\n",
        "      model = get_best_model(X_train[subset], our_y, X_val[subset], y_val)                    #teacher_prediction, X_val[subset], y_val)\n",
        "\n",
        "      #pred_train = model.predict(X_train[subset].values)\n",
        "      pred_val = model.predict(X_val[subset].values)  \n",
        "\n",
        "      #pred_trains.append(mape(y_train, pred_train))\n",
        "      pred_vals_.append(mape(y_val, pred_val))\n",
        "\n",
        "\n",
        "      #plt.plot(nboosts, pred_trains, label='train ')\n",
        "    teacher_n = teacher_grid[i]\n",
        "    plt.plot(nboosts, pred_vals_, label='validate for n = {} for teacher'.format(teacher_n))\n",
        "    i_optim = np.argmin(pred_vals_)\n",
        "    plt.scatter(nboosts[i_optim], pred_vals_[i_optim], c='r')\n",
        "\n",
        "  #plt.axhline(best_score, xmin=np.min(nboosts), xmax=np.max(nboosts))#, linewidth=4, color='r')\n",
        "  plt.plot(nboosts, best_score * np.ones(len(nboosts)), label='best score without teacher')\n",
        "  plt.xlabel('num boost round')\n",
        "  plt.legend()\n",
        "  #plt.plot(nboosts, 0.5 * np.ones(len(nboosts)))\n",
        "  \n",
        "  \n",
        "# compare_qualities()"
      ],
      "execution_count": 0,
      "outputs": []
    },
    {
      "metadata": {
        "id": "nqFuPrGhFD2v",
        "colab_type": "code",
        "outputId": "6b4b41eb-4816-4815-9129-ee00a7afd467",
        "colab": {
          "base_uri": "https://localhost:8080/",
          "height": 906
        }
      },
      "cell_type": "code",
      "source": [
        "compare_qualities(0.5)"
      ],
      "execution_count": 0,
      "outputs": [
        {
          "output_type": "stream",
          "text": [
            "100%|██████████| 10/10 [00:30<00:00,  3.99s/it]\n",
            "100%|██████████| 10/10 [00:31<00:00,  4.05s/it]\n",
            "100%|██████████| 10/10 [00:36<00:00,  4.54s/it]\n",
            "100%|██████████| 10/10 [00:30<00:00,  3.99s/it]\n",
            "100%|██████████| 10/10 [00:41<00:00,  4.64s/it]\n",
            "100%|██████████| 10/10 [00:42<00:00,  4.82s/it]\n",
            "100%|██████████| 10/10 [00:30<00:00,  3.96s/it]\n",
            "100%|██████████| 10/10 [00:34<00:00,  4.24s/it]\n",
            "100%|██████████| 10/10 [00:40<00:00,  5.42s/it]\n",
            "100%|██████████| 10/10 [00:30<00:00,  3.98s/it]\n"
          ],
          "name": "stderr"
        },
        {
          "output_type": "display_data",
          "data": {
            "image/png": "[encoded data removed]",
            "text/plain": [
              "<Figure size 864x864 with 1 Axes>"
            ]
          },
          "metadata": {
            "tags": []
          }
        }
      ]
    },
    {
      "metadata": {
        "id": "w8zmuQFsYC7c",
        "colab_type": "code",
        "outputId": "76e2ce7b-be34-4ed2-e134-3f0c1bb7eed5",
        "colab": {
          "base_uri": "https://localhost:8080/",
          "height": 34
        }
      },
      "cell_type": "code",
      "source": [
        "best_score"
      ],
      "execution_count": 0,
      "outputs": [
        {
          "output_type": "execute_result",
          "data": {
            "text/plain": [
              "0.15301124910720773"
            ]
          },
          "metadata": {
            "tags": []
          },
          "execution_count": 30
        }
      ]
    },
    {
      "metadata": {
        "id": "dyfRl8_-0dvz",
        "colab_type": "code",
        "colab": {}
      },
      "cell_type": "code",
      "source": [
        ""
      ],
      "execution_count": 0,
      "outputs": []
    },
    {
      "metadata": {
        "id": "411mMBgG0dtj",
        "colab_type": "code",
        "outputId": "d59bca94-703c-4c82-80ed-ee582e329d1a",
        "colab": {
          "base_uri": "https://localhost:8080/",
          "height": 34
        }
      },
      "cell_type": "code",
      "source": [
        "get_lightened_predictions"
      ],
      "execution_count": 0,
      "outputs": [
        {
          "output_type": "execute_result",
          "data": {
            "text/plain": [
              "<function __main__.get_lightened_predictions>"
            ]
          },
          "metadata": {
            "tags": []
          },
          "execution_count": 32
        }
      ]
    },
    {
      "metadata": {
        "id": "DJoIrklj0dpn",
        "colab_type": "code",
        "colab": {}
      },
      "cell_type": "code",
      "source": [
        ""
      ],
      "execution_count": 0,
      "outputs": []
    },
    {
      "metadata": {
        "id": "gbk8SlzJ0dlR",
        "colab_type": "code",
        "colab": {}
      },
      "cell_type": "code",
      "source": [
        ""
      ],
      "execution_count": 0,
      "outputs": []
    },
    {
      "metadata": {
        "id": "zv8CDptPRof_",
        "colab_type": "code",
        "outputId": "294f0533-976e-4a02-de34-f20ab57be7a5",
        "colab": {
          "base_uri": "https://localhost:8080/",
          "height": 34
        }
      },
      "cell_type": "code",
      "source": [
        "np.min(nboosts), np.max(nboosts)"
      ],
      "execution_count": 0,
      "outputs": [
        {
          "output_type": "execute_result",
          "data": {
            "text/plain": [
              "(50, 300)"
            ]
          },
          "metadata": {
            "tags": []
          },
          "execution_count": 29
        }
      ]
    },
    {
      "metadata": {
        "id": "DJ3hFIy3Rojo",
        "colab_type": "code",
        "outputId": "9e64b1a2-0f35-4be6-df61-ccf814804521",
        "colab": {
          "base_uri": "https://localhost:8080/",
          "height": 34
        }
      },
      "cell_type": "code",
      "source": [
        "best_score"
      ],
      "execution_count": 0,
      "outputs": [
        {
          "output_type": "execute_result",
          "data": {
            "text/plain": [
              "0.1530852249216249"
            ]
          },
          "metadata": {
            "tags": []
          },
          "execution_count": 31
        }
      ]
    },
    {
      "metadata": {
        "id": "OHIgH4ltRoor",
        "colab_type": "code",
        "colab": {}
      },
      "cell_type": "code",
      "source": [
        ""
      ],
      "execution_count": 0,
      "outputs": []
    },
    {
      "metadata": {
        "id": "eObAz8KFRodt",
        "colab_type": "code",
        "colab": {}
      },
      "cell_type": "code",
      "source": [
        ""
      ],
      "execution_count": 0,
      "outputs": []
    },
    {
      "metadata": {
        "id": "F1GpofEKf56e",
        "colab_type": "code",
        "colab": {}
      },
      "cell_type": "code",
      "source": [
        ""
      ],
      "execution_count": 0,
      "outputs": []
    },
    {
      "metadata": {
        "id": "dgARSiiXF09y",
        "colab_type": "code",
        "colab": {}
      },
      "cell_type": "code",
      "source": [
        "#model = get_best_model(X_train[subset],\n",
        "#                                    y_train, X_val[subset], y_val)\n",
        "#pred_val = model.predict(X_val[subset].values)\n",
        "#print(mape(y_val, pred_val))\n",
        "#pred_train = model.predict(X_train[subset].values)\n",
        "#mape(y_train, pred_train)\n",
        "\n",
        "#imp_df = pd.DataFrame()\n",
        "#imp_df[\"feature\"] = subset\n",
        "#imp_df[\"importance_gain\"] = model.best_estimator_.feature_importances_#(importance_type='gain')\n",
        "                                                              \n",
        "#imp_df.sort_values('importance_gain', ascending=False)\n"
      ],
      "execution_count": 0,
      "outputs": []
    },
    {
      "metadata": {
        "id": "Jg-j0li_F1x9",
        "colab_type": "code",
        "colab": {}
      },
      "cell_type": "code",
      "source": [
        ""
      ],
      "execution_count": 0,
      "outputs": []
    }
  ]
}