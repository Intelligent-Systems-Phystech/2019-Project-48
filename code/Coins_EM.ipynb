{
 "cells": [
  {
   "cell_type": "markdown",
   "metadata": {},
   "source": [
    "### По материалам сайта https://people.duke.edu/~ccc14/sta-663/EMAlgorithm.html"
   ]
  },
  {
   "cell_type": "code",
   "execution_count": 1,
   "metadata": {},
   "outputs": [],
   "source": [
    "import os\n",
    "import sys\n",
    "import glob\n",
    "import matplotlib.pyplot as plt\n",
    "import numpy as np\n",
    "import pandas as pd\n",
    "%matplotlib inline\n",
    "plt.style.use('ggplot')\n",
    "np.random.seed(1234)\n",
    "\n",
    "np.set_printoptions(formatter={'all':lambda x: '%.3f' % x})"
   ]
  },
  {
   "cell_type": "code",
   "execution_count": 2,
   "metadata": {},
   "outputs": [
    {
     "name": "stderr",
     "output_type": "stream",
     "text": [
      "/home/ivan/anaconda3/lib/python3.6/site-packages/ipykernel_launcher.py:2: DeprecationWarning: numpy.core.umath_tests is an internal NumPy module and should not be imported. It will be removed in a future NumPy release.\n",
      "  \n"
     ]
    }
   ],
   "source": [
    "from IPython.display import Image\n",
    "from numpy.core.umath_tests import matrix_multiply as mm\n",
    "\n",
    "from scipy.optimize import minimize\n",
    "from scipy.stats import bernoulli, binom"
   ]
  },
  {
   "cell_type": "code",
   "execution_count": 3,
   "metadata": {},
   "outputs": [],
   "source": [
    "def neg_loglik(thetas, n, xs, zs):\n",
    "    return -np.sum([binom(n, thetas[z]).logpmf(x) for (x, z) in zip(xs, zs)])"
   ]
  },
  {
   "cell_type": "code",
   "execution_count": 8,
   "metadata": {},
   "outputs": [],
   "source": [
    "m = 10\n",
    "theta_A = 0.8\n",
    "theta_B = 0.3\n",
    "theta_0 = [theta_A, theta_B]\n",
    "\n",
    "coin_A = bernoulli(theta_A)\n",
    "coin_B = bernoulli(theta_B)\n",
    "\n",
    "xs = [sum(u) for u in [coin_A.rvs(m), coin_A.rvs(m), coin_B.rvs(m), coin_A.rvs(m), coin_B.rvs(m)]]\n",
    "zs = [0, 0, 1, 0, 1]"
   ]
  },
  {
   "cell_type": "markdown",
   "metadata": {},
   "source": [
    "Точное решение:"
   ]
  },
  {
   "cell_type": "code",
   "execution_count": 9,
   "metadata": {},
   "outputs": [
    {
     "data": {
      "text/plain": [
       "array([7.000, 9.000, 2.000, 8.000, 2.000])"
      ]
     },
     "execution_count": 9,
     "metadata": {},
     "output_type": "execute_result"
    }
   ],
   "source": [
    "xs = np.array(xs)\n",
    "xs"
   ]
  },
  {
   "cell_type": "code",
   "execution_count": 10,
   "metadata": {},
   "outputs": [
    {
     "data": {
      "text/plain": [
       "(0.8, 0.2)"
      ]
     },
     "execution_count": 10,
     "metadata": {},
     "output_type": "execute_result"
    }
   ],
   "source": [
    "ml_A = np.sum(xs[[0,1,3]])/(3.0*m)\n",
    "ml_B = np.sum(xs[[2,4]])/(2.0*m)\n",
    "ml_A, ml_B"
   ]
  },
  {
   "cell_type": "markdown",
   "metadata": {},
   "source": [
    "Численное приближение"
   ]
  },
  {
   "cell_type": "code",
   "execution_count": 11,
   "metadata": {},
   "outputs": [
    {
     "data": {
      "text/plain": [
       "     fun: 6.510056871824038\n",
       "     jac: array([0.000, 0.000])\n",
       " message: 'Converged (|f_n-f_(n-1)| ~= 0)'\n",
       "    nfev: 18\n",
       "     nit: 6\n",
       "  status: 1\n",
       " success: True\n",
       "       x: array([0.800, 0.200])"
      ]
     },
     "execution_count": 11,
     "metadata": {},
     "output_type": "execute_result"
    }
   ],
   "source": [
    "bnds = [(0,1), (0,1)]\n",
    "minimize(neg_loglik, [0.5, 0.5], args=(m, xs, zs),\n",
    "         bounds=bnds, method='tnc', options={'maxiter': 100})"
   ]
  },
  {
   "cell_type": "code",
   "execution_count": 13,
   "metadata": {},
   "outputs": [
    {
     "name": "stdout",
     "output_type": "stream",
     "text": [
      "Iteration: 1\n",
      "theta_A = 0.7130122354005162, theta_B = 0.5813393083136627, ll = -32.68721052517165\n",
      "Iteration: 2\n",
      "theta_A = 0.7452920360819946, theta_B = 0.5692557501718727, ll = -31.258877917413145\n",
      "Iteration: 3\n",
      "theta_A = 0.7680988343673211, theta_B = 0.5495359141383477, ll = -30.760072598843625\n",
      "Iteration: 4\n",
      "theta_A = 0.7831645842999737, theta_B = 0.5346174541475203, ll = -30.33053606687176\n",
      "Iteration: 5\n",
      "theta_A = 0.7910552458637528, theta_B = 0.5262811670299318, ll = -30.071062062760777\n",
      "Iteration: 6\n",
      "theta_A = 0.7945325379936993, theta_B = 0.5223904375178746, ll = -29.95042921516964\n",
      "Iteration: 7\n",
      "theta_A = 0.7959286672497987, theta_B = 0.5207298780860257, ll = -29.900799558674116\n",
      "Iteration: 8\n",
      "theta_A = 0.7964656379225261, theta_B = 0.5200471890029876, ll = -29.881202814860167\n",
      "Iteration: 9\n",
      "theta_A = 0.7966683078984396, theta_B = 0.5197703896938076, ll = -29.873553692091832\n"
     ]
    }
   ],
   "source": [
    "xs = np.array([(5,5), (9,1), (8,2), (4,6), (7,3)])\n",
    "thetas = np.array([[0.6, 0.4], [0.5, 0.5]])\n",
    "\n",
    "tol = 0.01\n",
    "max_iter = 100\n",
    "\n",
    "ll_old = 0\n",
    "for i in range(max_iter):\n",
    "    ws_A = []\n",
    "    ws_B = []\n",
    "\n",
    "    vs_A = []\n",
    "    vs_B = []\n",
    "\n",
    "    ll_new = 0\n",
    "\n",
    "    # E-step: calculate probability distributions over possible completions\n",
    "    for x in xs:\n",
    "\n",
    "        # multinomial (binomial) log likelihood\n",
    "        ll_A = np.sum([x*np.log(thetas[0])])\n",
    "        ll_B = np.sum([x*np.log(thetas[1])])\n",
    "\n",
    "        # [EQN 1]\n",
    "        denom = np.exp(ll_A) + np.exp(ll_B)\n",
    "        w_A = np.exp(ll_A)/denom\n",
    "        w_B = np.exp(ll_B)/denom\n",
    "\n",
    "        ws_A.append(w_A)\n",
    "        ws_B.append(w_B)\n",
    "\n",
    "        # used for calculating theta\n",
    "        vs_A.append(np.dot(w_A, x))\n",
    "        vs_B.append(np.dot(w_B, x))\n",
    "\n",
    "        # update complete log likelihood\n",
    "        ll_new += w_A * ll_A + w_B * ll_B\n",
    "\n",
    "    # M-step: update values for parameters given current distribution\n",
    "    # [EQN 2]\n",
    "    thetas[0] = np.sum(vs_A, 0)/np.sum(vs_A)\n",
    "    thetas[1] = np.sum(vs_B, 0)/np.sum(vs_B)\n",
    "    # print distribution of z for each x and current parameter estimate\n",
    "\n",
    "    print(\"Iteration: {}\".format(i+1))\n",
    "    print(\"theta_A = {}, theta_B = {}, ll = {}\".format(thetas[0,0], thetas[1,0], ll_new))\n",
    "\n",
    "    if np.abs(ll_new - ll_old) < tol:\n",
    "        break\n",
    "    ll_old = ll_new"
   ]
  },
  {
   "cell_type": "code",
   "execution_count": 15,
   "metadata": {},
   "outputs": [
    {
     "name": "stdout",
     "output_type": "stream",
     "text": [
      "Iteration: 1\n",
      "theta_A = 0.7130122354005162, theta_B = 0.5813393083136627, ll = -32.68721052517165\n",
      "Iteration: 2\n",
      "theta_A = 0.7452920360819946, theta_B = 0.5692557501718727, ll = -31.258877917413145\n",
      "Iteration: 3\n",
      "theta_A = 0.7680988343673211, theta_B = 0.5495359141383477, ll = -30.760072598843628\n",
      "Iteration: 4\n",
      "theta_A = 0.7831645842999737, theta_B = 0.5346174541475203, ll = -30.33053606687176\n",
      "Iteration: 5\n",
      "theta_A = 0.7910552458637528, theta_B = 0.5262811670299318, ll = -30.071062062760774\n",
      "Iteration: 6\n",
      "theta_A = 0.7945325379936993, theta_B = 0.5223904375178746, ll = -29.950429215169642\n",
      "Iteration: 7\n",
      "theta_A = 0.7959286672497987, theta_B = 0.5207298780860257, ll = -29.90079955867412\n",
      "Iteration: 8\n",
      "theta_A = 0.7964656379225261, theta_B = 0.5200471890029876, ll = -29.881202814860167\n",
      "Iteration: 9\n",
      "theta_A = 0.7966683078984396, theta_B = 0.5197703896938076, ll = -29.873553692091832\n"
     ]
    }
   ],
   "source": [
    "xs = np.array([(5,5), (9,1), (8,2), (4,6), (7,3)])\n",
    "thetas = np.array([[0.6, 0.4], [0.5, 0.5]])\n",
    "\n",
    "tol = 0.01\n",
    "max_iter = 100\n",
    "\n",
    "ll_old = -np.infty\n",
    "for i in range(max_iter):\n",
    "    ll_A = np.sum(xs * np.log(thetas[0]), axis=1)\n",
    "    ll_B = np.sum(xs * np.log(thetas[1]), axis=1)\n",
    "    denom = np.exp(ll_A) + np.exp(ll_B)\n",
    "    w_A = np.exp(ll_A)/denom\n",
    "    w_B = np.exp(ll_B)/denom\n",
    "\n",
    "    vs_A = w_A[:, None] * xs\n",
    "    vs_B = w_B[:, None] * xs\n",
    "\n",
    "    thetas[0] = np.sum(vs_A, 0)/np.sum(vs_A)\n",
    "    thetas[1] = np.sum(vs_B, 0)/np.sum(vs_B)\n",
    "\n",
    "    ll_new = w_A.dot(ll_A) + w_B.dot(ll_B)\n",
    "\n",
    "    print(\"Iteration: {}\".format(i+1))\n",
    "    print(\"theta_A = {}, theta_B = {}, ll = {}\".format(thetas[0,0], thetas[1,0], ll_new))\n",
    "\n",
    "    if np.abs(ll_new - ll_old) < tol:\n",
    "        break\n",
    "    ll_old = ll_new"
   ]
  },
  {
   "cell_type": "code",
   "execution_count": 17,
   "metadata": {},
   "outputs": [
    {
     "name": "stdout",
     "output_type": "stream",
     "text": [
      "Iteration: 1 \n",
      "theta_A = 0.7130122354005162, theta_B = 0.5813393083136627, ll = -29.628126617033434\n",
      "Iteration: 2 \n",
      "theta_A = 0.7452920360819946, theta_B = 0.5692557501718727, ll = -28.393522045427623\n",
      "Iteration: 3 \n",
      "theta_A = 0.7680988343673211, theta_B = 0.5495359141383477, ll = -28.25738017656083\n",
      "Iteration: 4 \n",
      "theta_A = 0.7831645842999737, theta_B = 0.5346174541475203, ll = -28.162091459114407\n",
      "Iteration: 5 \n",
      "theta_A = 0.7910552458637528, theta_B = 0.5262811670299318, ll = -28.11921093989578\n",
      "Iteration: 6 \n",
      "theta_A = 0.7945325379936993, theta_B = 0.5223904375178746, ll = -28.107321738191388\n",
      "Iteration: 7 \n",
      "theta_A = 0.7959286672497987, theta_B = 0.5207298780860257, ll = -28.10494182083259\n"
     ]
    }
   ],
   "source": [
    "xs = np.array([(5,5), (9,1), (8,2), (4,6), (7,3)])\n",
    "thetas = np.array([[0.6, 0.4], [0.5, 0.5]])\n",
    "\n",
    "tol = 0.01\n",
    "max_iter = 100\n",
    "\n",
    "ll_old = -np.infty\n",
    "for i in range(max_iter):\n",
    "    ll_A = np.sum(xs * np.log(thetas[0]), axis=1)\n",
    "    ll_B = np.sum(xs * np.log(thetas[1]), axis=1)\n",
    "    denom = np.exp(ll_A) + np.exp(ll_B)\n",
    "    w_A = np.exp(ll_A)/denom\n",
    "    w_B = np.exp(ll_B)/denom\n",
    "\n",
    "    vs_A = w_A[:, None] * xs\n",
    "    vs_B = w_B[:, None] * xs\n",
    "\n",
    "    thetas[0] = np.sum(vs_A, 0)/np.sum(vs_A)\n",
    "    thetas[1] = np.sum(vs_B, 0)/np.sum(vs_B)\n",
    "\n",
    "    ll_new = w_A.dot(ll_A) + w_B.dot(ll_B) - w_A.dot(np.log(w_A)) - w_B.dot(np.log(w_B))\n",
    "\n",
    "    print(\"Iteration: {} \".format(i+1))\n",
    "    print(\"theta_A = {}, theta_B = {}, ll = {}\".format(thetas[0,0], thetas[1,0], ll_new))\n",
    "\n",
    "    if np.abs(ll_new - ll_old) < tol:\n",
    "        break\n",
    "    ll_old = ll_new"
   ]
  },
  {
   "cell_type": "code",
   "execution_count": 18,
   "metadata": {},
   "outputs": [],
   "source": [
    "def em(xs, thetas, max_iter=100, tol=1e-6):\n",
    "    \"\"\"Expectation-maximization for coin sample problem.\"\"\"\n",
    "\n",
    "    ll_old = -np.infty\n",
    "    for i in range(max_iter):\n",
    "        ll = np.array([np.sum(xs * np.log(theta), axis=1) for theta in thetas])\n",
    "        lik = np.exp(ll)\n",
    "        ws = lik/lik.sum(0)\n",
    "        vs = np.array([w[:, None] * xs for w in ws])\n",
    "        thetas = np.array([v.sum(0)/v.sum() for v in vs])\n",
    "        ll_new = np.sum([w*l for w, l in zip(ws, ll)])\n",
    "        if np.abs(ll_new - ll_old) < tol:\n",
    "            break\n",
    "        ll_old = ll_new\n",
    "    return i, thetas, ll_new"
   ]
  },
  {
   "cell_type": "code",
   "execution_count": 24,
   "metadata": {},
   "outputs": [
    {
     "name": "stdout",
     "output_type": "stream",
     "text": [
      "18\n",
      "[0.797 0.203]\n",
      "[0.520 0.480]\n",
      "-29.868676154999246\n"
     ]
    }
   ],
   "source": [
    "xs = np.array([(5,5), (9,1), (8,2), (4,6), (7,3)])\n",
    "thetas = np.array([[0.6, 0.4], [0.5, 0.5]])\n",
    "\n",
    "i, thetas, ll = em(xs, thetas)\n",
    "print(i)\n",
    "for theta in thetas:\n",
    "    print(theta)\n",
    "print(ll)"
   ]
  },
  {
   "cell_type": "code",
   "execution_count": 25,
   "metadata": {},
   "outputs": [],
   "source": [
    "np.random.seed(1234)\n",
    "\n",
    "n = 100\n",
    "p0 = 0.8\n",
    "p1 = 0.35\n",
    "xs = np.concatenate([np.random.binomial(n, p0, n // 2), np.random.binomial(n, p1, n//2)])\n",
    "xs = np.column_stack([xs, n-xs])\n",
    "np.random.shuffle(xs)"
   ]
  },
  {
   "cell_type": "code",
   "execution_count": 26,
   "metadata": {},
   "outputs": [
    {
     "ename": "SyntaxError",
     "evalue": "Missing parentheses in call to 'print'. Did you mean print(i)? (<ipython-input-26-81321ec7e31e>, line 3)",
     "output_type": "error",
     "traceback": [
      "\u001b[0;36m  File \u001b[0;32m\"<ipython-input-26-81321ec7e31e>\"\u001b[0;36m, line \u001b[0;32m3\u001b[0m\n\u001b[0;31m    print i\u001b[0m\n\u001b[0m          ^\u001b[0m\n\u001b[0;31mSyntaxError\u001b[0m\u001b[0;31m:\u001b[0m Missing parentheses in call to 'print'. Did you mean print(i)?\n"
     ]
    }
   ],
   "source": [
    "results = [em(xs, np.random.random((2,2))) for i in range(10)]\n",
    "i, thetas, ll =  sorted(results, key=lambda x: x[-1])[-1]\n",
    "print i\n",
    "for theta in thetas:\n",
    "    print theta\n",
    "print ll"
   ]
  },
  {
   "cell_type": "code",
   "execution_count": null,
   "metadata": {},
   "outputs": [],
   "source": []
  }
 ],
 "metadata": {
  "kernelspec": {
   "display_name": "Python 3",
   "language": "python",
   "name": "python3"
  },
  "language_info": {
   "codemirror_mode": {
    "name": "ipython",
    "version": 3
   },
   "file_extension": ".py",
   "mimetype": "text/x-python",
   "name": "python",
   "nbconvert_exporter": "python",
   "pygments_lexer": "ipython3",
   "version": "3.6.5"
  }
 },
 "nbformat": 4,
 "nbformat_minor": 2
}
